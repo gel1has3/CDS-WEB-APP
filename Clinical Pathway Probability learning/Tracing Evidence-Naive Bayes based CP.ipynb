{
 "cells": [
  {
   "cell_type": "markdown",
   "metadata": {},
   "source": [
    "### Design and implementation of  automated and dynamic clinical pathways for low resource settings\n",
    "\n",
    "###### Tracing Evidence from historical records\n",
    "##### By\n",
    "Geletaw Sahle, Demesewu Amenu, Girum Ketema, Frank Verbeke, Jan Cornelis, and Bart Jansen"
   ]
  },
  {
   "cell_type": "markdown",
   "metadata": {},
   "source": [
    "## 1. Importing Library and Pacakges"
   ]
  },
  {
   "cell_type": "code",
   "execution_count": 1,
   "metadata": {},
   "outputs": [],
   "source": [
    "import pandas as pd\n",
    "import matplotlib.pyplot as plt\n",
    "import numpy as np\n",
    "\n",
    "\n",
    "import pandas as pd\n",
    "from sklearn.model_selection import train_test_split\n",
    "from sklearn.naive_bayes import GaussianNB\n",
    "from sklearn.metrics import accuracy_score\n",
    "import matplotlib.pyplot as plt\n",
    "import seaborn as sns\n",
    "\n",
    "\n",
    "from sklearn.dummy import DummyClassifier\n",
    "from sklearn.metrics import accuracy_score,recall_score,precision_score,f1_score\n",
    "from sklearn.metrics import confusion_matrix\n",
    "\n",
    "from sklearn.metrics import roc_curve, roc_auc_score\n"
   ]
  },
  {
   "cell_type": "markdown",
   "metadata": {},
   "source": [
    "## 2. Importing the dataset"
   ]
  },
  {
   "cell_type": "code",
   "execution_count": 2,
   "metadata": {},
   "outputs": [],
   "source": [
    "#Strategies I\n",
    "#hcdata = pd.read_csv(\"HCTransformed11-Table 1.csv\", encoding='utf-8')\n",
    "\n",
    "#Strategies II\n",
    "\n",
    "#hcdata = pd.read_csv(\"pregnancy-Table 1.csv\", encoding='utf-8')\n",
    "\n",
    "#Strategies III\n",
    "#data after transformation \n",
    "\n",
    "#version 1.1 data\n",
    "#hcdata = pd.read_csv(\"Pregnancy_AfterTRANS.csv\", encoding='utf-8')\n",
    "\n",
    "#Updated HC preprocessed data\n",
    "hcdata = pd.read_csv(\"Preg2020-Table 1_Updated.csv\", encoding='utf-8')"
   ]
  },
  {
   "cell_type": "markdown",
   "metadata": {},
   "source": [
    "## 3. Clinical Pathways Data Description"
   ]
  },
  {
   "cell_type": "code",
   "execution_count": 3,
   "metadata": {},
   "outputs": [
    {
     "data": {
      "text/html": [
       "<div>\n",
       "<style scoped>\n",
       "    .dataframe tbody tr th:only-of-type {\n",
       "        vertical-align: middle;\n",
       "    }\n",
       "\n",
       "    .dataframe tbody tr th {\n",
       "        vertical-align: top;\n",
       "    }\n",
       "\n",
       "    .dataframe thead th {\n",
       "        text-align: right;\n",
       "    }\n",
       "</style>\n",
       "<table border=\"1\" class=\"dataframe\">\n",
       "  <thead>\n",
       "    <tr style=\"text-align: right;\">\n",
       "      <th></th>\n",
       "      <th>Disease_Name</th>\n",
       "      <th>Category</th>\n",
       "      <th>Type</th>\n",
       "      <th>Status</th>\n",
       "      <th>DangerSign</th>\n",
       "      <th>abdominalPain</th>\n",
       "      <th>headache</th>\n",
       "      <th>SleepingSickness</th>\n",
       "      <th>Cough</th>\n",
       "      <th>Vomiting</th>\n",
       "      <th>...</th>\n",
       "      <th>Stress</th>\n",
       "      <th>HepatitisTest</th>\n",
       "      <th>RedEye</th>\n",
       "      <th>DarkUrine</th>\n",
       "      <th>Jaundice</th>\n",
       "      <th>Hypertension</th>\n",
       "      <th>AbdominalCramp</th>\n",
       "      <th>InfectionDeveloped</th>\n",
       "      <th>ART</th>\n",
       "      <th>CP</th>\n",
       "    </tr>\n",
       "  </thead>\n",
       "  <tbody>\n",
       "    <tr>\n",
       "      <th>count</th>\n",
       "      <td>719</td>\n",
       "      <td>719</td>\n",
       "      <td>719</td>\n",
       "      <td>719</td>\n",
       "      <td>719</td>\n",
       "      <td>719</td>\n",
       "      <td>719</td>\n",
       "      <td>719</td>\n",
       "      <td>719</td>\n",
       "      <td>719</td>\n",
       "      <td>...</td>\n",
       "      <td>719</td>\n",
       "      <td>719</td>\n",
       "      <td>719</td>\n",
       "      <td>719</td>\n",
       "      <td>719</td>\n",
       "      <td>719</td>\n",
       "      <td>719</td>\n",
       "      <td>719</td>\n",
       "      <td>719</td>\n",
       "      <td>719</td>\n",
       "    </tr>\n",
       "    <tr>\n",
       "      <th>unique</th>\n",
       "      <td>1</td>\n",
       "      <td>32</td>\n",
       "      <td>28</td>\n",
       "      <td>50</td>\n",
       "      <td>4</td>\n",
       "      <td>3</td>\n",
       "      <td>3</td>\n",
       "      <td>4</td>\n",
       "      <td>4</td>\n",
       "      <td>3</td>\n",
       "      <td>...</td>\n",
       "      <td>3</td>\n",
       "      <td>4</td>\n",
       "      <td>3</td>\n",
       "      <td>3</td>\n",
       "      <td>3</td>\n",
       "      <td>3</td>\n",
       "      <td>3</td>\n",
       "      <td>3</td>\n",
       "      <td>3</td>\n",
       "      <td>2</td>\n",
       "    </tr>\n",
       "    <tr>\n",
       "      <th>top</th>\n",
       "      <td>Pregnancy</td>\n",
       "      <td>Normal Pregnancy</td>\n",
       "      <td>First ANC Visit</td>\n",
       "      <td>Normal Pregnancy</td>\n",
       "      <td>No</td>\n",
       "      <td>No</td>\n",
       "      <td>No</td>\n",
       "      <td>Notavailable</td>\n",
       "      <td>Notavailable</td>\n",
       "      <td>Notavailable</td>\n",
       "      <td>...</td>\n",
       "      <td>Notavailable</td>\n",
       "      <td>Notavailable</td>\n",
       "      <td>Notavailable</td>\n",
       "      <td>Notavailable</td>\n",
       "      <td>Notavailable</td>\n",
       "      <td>Notavailable</td>\n",
       "      <td>Notavailable</td>\n",
       "      <td>Notavailable</td>\n",
       "      <td>Notavailable</td>\n",
       "      <td>Treated</td>\n",
       "    </tr>\n",
       "    <tr>\n",
       "      <th>freq</th>\n",
       "      <td>719</td>\n",
       "      <td>79</td>\n",
       "      <td>138</td>\n",
       "      <td>63</td>\n",
       "      <td>331</td>\n",
       "      <td>303</td>\n",
       "      <td>308</td>\n",
       "      <td>361</td>\n",
       "      <td>361</td>\n",
       "      <td>392</td>\n",
       "      <td>...</td>\n",
       "      <td>676</td>\n",
       "      <td>682</td>\n",
       "      <td>688</td>\n",
       "      <td>685</td>\n",
       "      <td>684</td>\n",
       "      <td>669</td>\n",
       "      <td>632</td>\n",
       "      <td>657</td>\n",
       "      <td>608</td>\n",
       "      <td>532</td>\n",
       "    </tr>\n",
       "  </tbody>\n",
       "</table>\n",
       "<p>4 rows × 63 columns</p>\n",
       "</div>"
      ],
      "text/plain": [
       "       Disease_Name          Category             Type            Status  \\\n",
       "count           719               719              719               719   \n",
       "unique            1                32               28                50   \n",
       "top       Pregnancy  Normal Pregnancy  First ANC Visit  Normal Pregnancy   \n",
       "freq            719                79              138                63   \n",
       "\n",
       "       DangerSign abdominalPain headache SleepingSickness         Cough  \\\n",
       "count         719           719      719              719           719   \n",
       "unique          4             3        3                4             4   \n",
       "top            No            No       No     Notavailable  Notavailable   \n",
       "freq          331           303      308              361           361   \n",
       "\n",
       "            Vomiting  ...        Stress HepatitisTest        RedEye  \\\n",
       "count            719  ...           719           719           719   \n",
       "unique             3  ...             3             4             3   \n",
       "top     Notavailable  ...  Notavailable  Notavailable  Notavailable   \n",
       "freq             392  ...           676           682           688   \n",
       "\n",
       "           DarkUrine      Jaundice  Hypertension AbdominalCramp  \\\n",
       "count            719           719           719            719   \n",
       "unique             3             3             3              3   \n",
       "top     Notavailable  Notavailable  Notavailable   Notavailable   \n",
       "freq             685           684           669            632   \n",
       "\n",
       "       InfectionDeveloped           ART       CP  \n",
       "count                 719           719      719  \n",
       "unique                  3             3        2  \n",
       "top          Notavailable  Notavailable  Treated  \n",
       "freq                  657           608      532  \n",
       "\n",
       "[4 rows x 63 columns]"
      ]
     },
     "execution_count": 3,
     "metadata": {},
     "output_type": "execute_result"
    }
   ],
   "source": [
    "hcdata.describe()"
   ]
  },
  {
   "cell_type": "code",
   "execution_count": 4,
   "metadata": {},
   "outputs": [
    {
     "data": {
      "text/plain": [
       "count         719\n",
       "unique          2\n",
       "top       Treated\n",
       "freq          532\n",
       "Name: CP, dtype: object"
      ]
     },
     "execution_count": 4,
     "metadata": {},
     "output_type": "execute_result"
    }
   ],
   "source": [
    " hcdata[\"CP\"].describe() "
   ]
  },
  {
   "cell_type": "code",
   "execution_count": 5,
   "metadata": {},
   "outputs": [
    {
     "data": {
      "text/plain": [
       "(719, 63)"
      ]
     },
     "execution_count": 5,
     "metadata": {},
     "output_type": "execute_result"
    }
   ],
   "source": [
    "hcdata.shape"
   ]
  },
  {
   "cell_type": "code",
   "execution_count": 6,
   "metadata": {},
   "outputs": [
    {
     "data": {
      "text/html": [
       "<div>\n",
       "<style scoped>\n",
       "    .dataframe tbody tr th:only-of-type {\n",
       "        vertical-align: middle;\n",
       "    }\n",
       "\n",
       "    .dataframe tbody tr th {\n",
       "        vertical-align: top;\n",
       "    }\n",
       "\n",
       "    .dataframe thead tr th {\n",
       "        text-align: left;\n",
       "    }\n",
       "\n",
       "    .dataframe thead tr:last-of-type th {\n",
       "        text-align: right;\n",
       "    }\n",
       "</style>\n",
       "<table border=\"1\" class=\"dataframe\">\n",
       "  <thead>\n",
       "    <tr>\n",
       "      <th></th>\n",
       "      <th colspan=\"4\" halign=\"left\">Disease_Name</th>\n",
       "    </tr>\n",
       "    <tr>\n",
       "      <th></th>\n",
       "      <th>count</th>\n",
       "      <th>unique</th>\n",
       "      <th>top</th>\n",
       "      <th>freq</th>\n",
       "    </tr>\n",
       "    <tr>\n",
       "      <th>CP</th>\n",
       "      <th></th>\n",
       "      <th></th>\n",
       "      <th></th>\n",
       "      <th></th>\n",
       "    </tr>\n",
       "  </thead>\n",
       "  <tbody>\n",
       "    <tr>\n",
       "      <th>Refer</th>\n",
       "      <td>187</td>\n",
       "      <td>1</td>\n",
       "      <td>Pregnancy</td>\n",
       "      <td>187</td>\n",
       "    </tr>\n",
       "    <tr>\n",
       "      <th>Treated</th>\n",
       "      <td>532</td>\n",
       "      <td>1</td>\n",
       "      <td>Pregnancy</td>\n",
       "      <td>532</td>\n",
       "    </tr>\n",
       "  </tbody>\n",
       "</table>\n",
       "</div>"
      ],
      "text/plain": [
       "        Disease_Name                       \n",
       "               count unique        top freq\n",
       "CP                                         \n",
       "Refer            187      1  Pregnancy  187\n",
       "Treated          532      1  Pregnancy  532"
      ]
     },
     "execution_count": 6,
     "metadata": {},
     "output_type": "execute_result"
    }
   ],
   "source": [
    "# Group data by CP and summarize disease name \n",
    "hcdata.groupby([\"CP\"])[[\"Disease_Name\"]].describe()"
   ]
  },
  {
   "cell_type": "code",
   "execution_count": 7,
   "metadata": {},
   "outputs": [],
   "source": [
    "#hcdata.groupby([\"Category\"])[[\"CP\"]].describe()"
   ]
  },
  {
   "cell_type": "code",
   "execution_count": 8,
   "metadata": {},
   "outputs": [
    {
     "data": {
      "text/html": [
       "<div>\n",
       "<style scoped>\n",
       "    .dataframe tbody tr th:only-of-type {\n",
       "        vertical-align: middle;\n",
       "    }\n",
       "\n",
       "    .dataframe tbody tr th {\n",
       "        vertical-align: top;\n",
       "    }\n",
       "\n",
       "    .dataframe thead th {\n",
       "        text-align: right;\n",
       "    }\n",
       "</style>\n",
       "<table border=\"1\" class=\"dataframe\">\n",
       "  <thead>\n",
       "    <tr style=\"text-align: right;\">\n",
       "      <th></th>\n",
       "      <th>Disease_Name</th>\n",
       "      <th>Category</th>\n",
       "      <th>Type</th>\n",
       "      <th>Status</th>\n",
       "      <th>DangerSign</th>\n",
       "      <th>abdominalPain</th>\n",
       "      <th>headache</th>\n",
       "      <th>SleepingSickness</th>\n",
       "      <th>Cough</th>\n",
       "      <th>Vomiting</th>\n",
       "      <th>...</th>\n",
       "      <th>Stress</th>\n",
       "      <th>HepatitisTest</th>\n",
       "      <th>RedEye</th>\n",
       "      <th>DarkUrine</th>\n",
       "      <th>Jaundice</th>\n",
       "      <th>Hypertension</th>\n",
       "      <th>AbdominalCramp</th>\n",
       "      <th>InfectionDeveloped</th>\n",
       "      <th>ART</th>\n",
       "      <th>CP</th>\n",
       "    </tr>\n",
       "  </thead>\n",
       "  <tbody>\n",
       "    <tr>\n",
       "      <th>0</th>\n",
       "      <td>Pregnancy</td>\n",
       "      <td>Pregnant women that received ANC First visit b...</td>\n",
       "      <td>First ANC Visit</td>\n",
       "      <td>&lt;16 weeks gestation</td>\n",
       "      <td>No</td>\n",
       "      <td>Yes</td>\n",
       "      <td>Yes</td>\n",
       "      <td>Yes</td>\n",
       "      <td>Yes</td>\n",
       "      <td>Yes</td>\n",
       "      <td>...</td>\n",
       "      <td>Notavailable</td>\n",
       "      <td>Notavailable</td>\n",
       "      <td>Notavailable</td>\n",
       "      <td>Notavailable</td>\n",
       "      <td>Notavailable</td>\n",
       "      <td>Notavailable</td>\n",
       "      <td>Notavailable</td>\n",
       "      <td>Notavailable</td>\n",
       "      <td>Notavailable</td>\n",
       "      <td>Treated</td>\n",
       "    </tr>\n",
       "    <tr>\n",
       "      <th>1</th>\n",
       "      <td>Pregnancy</td>\n",
       "      <td>Pregnant women that received ANC First visit b...</td>\n",
       "      <td>First ANC Visit</td>\n",
       "      <td>&lt;16 weeks gestation</td>\n",
       "      <td>No</td>\n",
       "      <td>No</td>\n",
       "      <td>No</td>\n",
       "      <td>No</td>\n",
       "      <td>No</td>\n",
       "      <td>Notavailable</td>\n",
       "      <td>...</td>\n",
       "      <td>Notavailable</td>\n",
       "      <td>Notavailable</td>\n",
       "      <td>Notavailable</td>\n",
       "      <td>Notavailable</td>\n",
       "      <td>Notavailable</td>\n",
       "      <td>Notavailable</td>\n",
       "      <td>Notavailable</td>\n",
       "      <td>Notavailable</td>\n",
       "      <td>No</td>\n",
       "      <td>Treated</td>\n",
       "    </tr>\n",
       "  </tbody>\n",
       "</table>\n",
       "<p>2 rows × 63 columns</p>\n",
       "</div>"
      ],
      "text/plain": [
       "  Disease_Name                                           Category  \\\n",
       "0    Pregnancy  Pregnant women that received ANC First visit b...   \n",
       "1    Pregnancy  Pregnant women that received ANC First visit b...   \n",
       "\n",
       "              Type               Status DangerSign abdominalPain headache  \\\n",
       "0  First ANC Visit  <16 weeks gestation         No           Yes      Yes   \n",
       "1  First ANC Visit  <16 weeks gestation         No            No       No   \n",
       "\n",
       "  SleepingSickness Cough      Vomiting  ...        Stress HepatitisTest  \\\n",
       "0              Yes   Yes           Yes  ...  Notavailable  Notavailable   \n",
       "1               No    No  Notavailable  ...  Notavailable  Notavailable   \n",
       "\n",
       "         RedEye     DarkUrine      Jaundice  Hypertension AbdominalCramp  \\\n",
       "0  Notavailable  Notavailable  Notavailable  Notavailable   Notavailable   \n",
       "1  Notavailable  Notavailable  Notavailable  Notavailable   Notavailable   \n",
       "\n",
       "  InfectionDeveloped           ART       CP  \n",
       "0       Notavailable  Notavailable  Treated  \n",
       "1       Notavailable            No  Treated  \n",
       "\n",
       "[2 rows x 63 columns]"
      ]
     },
     "execution_count": 8,
     "metadata": {},
     "output_type": "execute_result"
    }
   ],
   "source": [
    "hcdata.head(2)"
   ]
  },
  {
   "cell_type": "markdown",
   "metadata": {},
   "source": [
    "## 4. Check missing value percentage"
   ]
  },
  {
   "cell_type": "code",
   "execution_count": 9,
   "metadata": {},
   "outputs": [],
   "source": [
    "# Function to calculate missing values by column\n",
    "def missing_values_table(df):\n",
    "   \n",
    "    # Total missing values\n",
    "    mis_val = df.isnull().sum()\n",
    "    \n",
    "    # Percentage of missing values\n",
    "    mis_val_percent = 100 * df.isnull().sum() / len(df)\n",
    "    \n",
    "    # Make a table with the results\n",
    "    mis_val_table = pd.concat([mis_val, mis_val_percent], axis=1)\n",
    "    \n",
    "    # Rename the columns\n",
    "    mis_val_table_ren_columns = mis_val_table.rename(\n",
    "    columns = {0 : 'Missing Values', 1 : '% of Total Values'})\n",
    "    \n",
    "    # Sort the table by percentage of missing descending\n",
    "    # .iloc[:, 1]!= 0: filter on missing missing values not equal to zero\n",
    "    mis_val_table_ren_columns = mis_val_table_ren_columns[\n",
    "        mis_val_table_ren_columns.iloc[:,1] != 0].sort_values(\n",
    "    '% of Total Values', ascending=False).round(2)  # round(2), keep 2 digits\n",
    "    \n",
    "    # Print some summary information\n",
    "    print(\"Your slelected dataframe has {} columns.\".format(df.shape[1]) + '\\n' + \n",
    "    \"There are {} columns that have missing values.\".format(mis_val_table_ren_columns.shape[0]))\n",
    "    \n",
    "    # Return the dataframe with missing information\n",
    "    return mis_val_table_ren_columns"
   ]
  },
  {
   "cell_type": "code",
   "execution_count": 10,
   "metadata": {},
   "outputs": [
    {
     "name": "stdout",
     "output_type": "stream",
     "text": [
      "Your slelected dataframe has 63 columns.\n",
      "There are 3 columns that have missing values.\n"
     ]
    },
    {
     "data": {
      "text/html": [
       "<div>\n",
       "<style scoped>\n",
       "    .dataframe tbody tr th:only-of-type {\n",
       "        vertical-align: middle;\n",
       "    }\n",
       "\n",
       "    .dataframe tbody tr th {\n",
       "        vertical-align: top;\n",
       "    }\n",
       "\n",
       "    .dataframe thead th {\n",
       "        text-align: right;\n",
       "    }\n",
       "</style>\n",
       "<table border=\"1\" class=\"dataframe\">\n",
       "  <thead>\n",
       "    <tr style=\"text-align: right;\">\n",
       "      <th></th>\n",
       "      <th>Missing Values</th>\n",
       "      <th>% of Total Values</th>\n",
       "    </tr>\n",
       "  </thead>\n",
       "  <tbody>\n",
       "    <tr>\n",
       "      <th>Pain</th>\n",
       "      <td>4</td>\n",
       "      <td>0.56</td>\n",
       "    </tr>\n",
       "    <tr>\n",
       "      <th>Complication</th>\n",
       "      <td>4</td>\n",
       "      <td>0.56</td>\n",
       "    </tr>\n",
       "    <tr>\n",
       "      <th>Fever</th>\n",
       "      <td>2</td>\n",
       "      <td>0.28</td>\n",
       "    </tr>\n",
       "  </tbody>\n",
       "</table>\n",
       "</div>"
      ],
      "text/plain": [
       "              Missing Values  % of Total Values\n",
       "Pain                       4               0.56\n",
       "Complication               4               0.56\n",
       "Fever                      2               0.28"
      ]
     },
     "execution_count": 10,
     "metadata": {},
     "output_type": "execute_result"
    }
   ],
   "source": [
    "missing_values_table(hcdata)"
   ]
  },
  {
   "cell_type": "markdown",
   "metadata": {},
   "source": [
    "### 4.1. Imputing HealthCenter Dataset"
   ]
  },
  {
   "cell_type": "markdown",
   "metadata": {},
   "source": [
    "#### 4.1.1. Define numerical Imputer"
   ]
  },
  {
   "cell_type": "code",
   "execution_count": 11,
   "metadata": {},
   "outputs": [],
   "source": [
    "# define numerical imputer\n",
    "#num_imputer = SimpleImputer(strategy='median')"
   ]
  },
  {
   "cell_type": "code",
   "execution_count": 12,
   "metadata": {},
   "outputs": [],
   "source": [
    "# imputing on numerical data\n",
    "#X[num_cols] = num_imputer.fit_transform(X[num_cols])"
   ]
  },
  {
   "cell_type": "markdown",
   "metadata": {},
   "source": [
    "#### 4.1.2. Define Categorical Imputer"
   ]
  },
  {
   "cell_type": "code",
   "execution_count": 13,
   "metadata": {},
   "outputs": [],
   "source": [
    "# DataframeMapper, CategoricalImputer\n",
    "from sklearn_pandas import DataFrameMapper, CategoricalImputer\n",
    "# categorical_imputer\n",
    "class Categorical_Imputer:\n",
    "    \"\"\"\n",
    "    Imputing categorical data using the most frequent value\n",
    "    \"\"\"\n",
    "    \n",
    "    # instance attribute\n",
    "    def __init__(self, strategy):\n",
    "        self.strategy = strategy\n",
    "        \n",
    "    # instance method\n",
    "    def fit_transform(self, df:'dataframe')->'dataframe':\n",
    "        \"\"\"\n",
    "        Fill in missing categorical values using most frequent value\n",
    "        \"\"\"\n",
    "        \n",
    "        # instantiate CategoricalImputer\n",
    "        imputer = CategoricalImputer()\n",
    "        \n",
    "        # convert array to dataframe\n",
    "        df_filled = df.apply(lambda x: imputer.fit_transform(x), axis=0)\n",
    "        \n",
    "        # return filled dataframe\n",
    "        return df_filled"
   ]
  },
  {
   "cell_type": "code",
   "execution_count": 14,
   "metadata": {},
   "outputs": [
    {
     "data": {
      "text/plain": [
       "<__main__.Categorical_Imputer at 0x10f2022e8>"
      ]
     },
     "execution_count": 14,
     "metadata": {},
     "output_type": "execute_result"
    }
   ],
   "source": [
    "# define categorical imputer\n",
    "Categorical_Imputer(hcdata)"
   ]
  },
  {
   "cell_type": "code",
   "execution_count": 15,
   "metadata": {},
   "outputs": [
    {
     "name": "stdout",
     "output_type": "stream",
     "text": [
      "Your slelected dataframe has 63 columns.\n",
      "There are 3 columns that have missing values.\n"
     ]
    },
    {
     "data": {
      "text/html": [
       "<div>\n",
       "<style scoped>\n",
       "    .dataframe tbody tr th:only-of-type {\n",
       "        vertical-align: middle;\n",
       "    }\n",
       "\n",
       "    .dataframe tbody tr th {\n",
       "        vertical-align: top;\n",
       "    }\n",
       "\n",
       "    .dataframe thead th {\n",
       "        text-align: right;\n",
       "    }\n",
       "</style>\n",
       "<table border=\"1\" class=\"dataframe\">\n",
       "  <thead>\n",
       "    <tr style=\"text-align: right;\">\n",
       "      <th></th>\n",
       "      <th>Missing Values</th>\n",
       "      <th>% of Total Values</th>\n",
       "    </tr>\n",
       "  </thead>\n",
       "  <tbody>\n",
       "    <tr>\n",
       "      <th>Pain</th>\n",
       "      <td>4</td>\n",
       "      <td>0.56</td>\n",
       "    </tr>\n",
       "    <tr>\n",
       "      <th>Complication</th>\n",
       "      <td>4</td>\n",
       "      <td>0.56</td>\n",
       "    </tr>\n",
       "    <tr>\n",
       "      <th>Fever</th>\n",
       "      <td>2</td>\n",
       "      <td>0.28</td>\n",
       "    </tr>\n",
       "  </tbody>\n",
       "</table>\n",
       "</div>"
      ],
      "text/plain": [
       "              Missing Values  % of Total Values\n",
       "Pain                       4               0.56\n",
       "Complication               4               0.56\n",
       "Fever                      2               0.28"
      ]
     },
     "execution_count": 15,
     "metadata": {},
     "output_type": "execute_result"
    }
   ],
   "source": [
    "# missing value table\n",
    "missing_values_table(hcdata)"
   ]
  },
  {
   "cell_type": "markdown",
   "metadata": {},
   "source": [
    "## 5. Visualize the CP target Class "
   ]
  },
  {
   "cell_type": "code",
   "execution_count": 16,
   "metadata": {},
   "outputs": [],
   "source": [
    "def ClinicalPathways_ClassVIZ(data):\n",
    "    pd.value_counts(data['CP']).plot.bar()\n",
    "    plt.title('Clinical Pathways Class Histogram')\n",
    "    plt.xlabel('CP')\n",
    "    plt.ylabel('Frequency')\n",
    "    data['CP'].value_counts()"
   ]
  },
  {
   "cell_type": "code",
   "execution_count": 17,
   "metadata": {},
   "outputs": [
    {
     "data": {
      "image/png": "[encoded data removed]",
      "text/plain": [
       "<Figure size 432x288 with 1 Axes>"
      ]
     },
     "metadata": {
      "needs_background": "light"
     },
     "output_type": "display_data"
    }
   ],
   "source": [
    "ClinicalPathways_ClassVIZ(hcdata)"
   ]
  },
  {
   "cell_type": "markdown",
   "metadata": {},
   "source": [
    "### Challenges \n",
    "1. Data imbalance problem"
   ]
  },
  {
   "cell_type": "code",
   "execution_count": 18,
   "metadata": {},
   "outputs": [
    {
     "data": {
      "text/plain": [
       "Treated    532\n",
       "Refer      187\n",
       "Name: CP, dtype: int64"
      ]
     },
     "execution_count": 18,
     "metadata": {},
     "output_type": "execute_result"
    }
   ],
   "source": [
    "# Counting the CP data class \n",
    "hcdata['CP'].value_counts()"
   ]
  },
  {
   "cell_type": "markdown",
   "metadata": {},
   "source": [
    "### Summarize the CP dataset "
   ]
  },
  {
   "cell_type": "code",
   "execution_count": 19,
   "metadata": {},
   "outputs": [],
   "source": [
    "# checking the dataset data types\n",
    "#hcdata.info()"
   ]
  },
  {
   "cell_type": "markdown",
   "metadata": {},
   "source": [
    "## 6. Converting into Categorical Values"
   ]
  },
  {
   "cell_type": "code",
   "execution_count": 20,
   "metadata": {},
   "outputs": [],
   "source": [
    "def convert_into_categorical_values(CPdata):\n",
    "    for col in CPdata:\n",
    "        CPdata[col] = CPdata[col].astype('category')\n",
    "    return CPdata"
   ]
  },
  {
   "cell_type": "code",
   "execution_count": 21,
   "metadata": {},
   "outputs": [],
   "source": [
    "df = hcdata\n",
    "df = convert_into_categorical_values(df)"
   ]
  },
  {
   "cell_type": "code",
   "execution_count": 22,
   "metadata": {},
   "outputs": [],
   "source": [
    "# Checking the answer\n",
    "#df.info()"
   ]
  },
  {
   "cell_type": "code",
   "execution_count": 23,
   "metadata": {},
   "outputs": [
    {
     "data": {
      "text/html": [
       "<div>\n",
       "<style scoped>\n",
       "    .dataframe tbody tr th:only-of-type {\n",
       "        vertical-align: middle;\n",
       "    }\n",
       "\n",
       "    .dataframe tbody tr th {\n",
       "        vertical-align: top;\n",
       "    }\n",
       "\n",
       "    .dataframe thead th {\n",
       "        text-align: right;\n",
       "    }\n",
       "</style>\n",
       "<table border=\"1\" class=\"dataframe\">\n",
       "  <thead>\n",
       "    <tr style=\"text-align: right;\">\n",
       "      <th></th>\n",
       "      <th>Disease_Name</th>\n",
       "      <th>Category</th>\n",
       "      <th>Type</th>\n",
       "      <th>Status</th>\n",
       "      <th>DangerSign</th>\n",
       "      <th>abdominalPain</th>\n",
       "      <th>headache</th>\n",
       "      <th>SleepingSickness</th>\n",
       "      <th>Cough</th>\n",
       "      <th>Vomiting</th>\n",
       "      <th>...</th>\n",
       "      <th>Stress</th>\n",
       "      <th>HepatitisTest</th>\n",
       "      <th>RedEye</th>\n",
       "      <th>DarkUrine</th>\n",
       "      <th>Jaundice</th>\n",
       "      <th>Hypertension</th>\n",
       "      <th>AbdominalCramp</th>\n",
       "      <th>InfectionDeveloped</th>\n",
       "      <th>ART</th>\n",
       "      <th>CP</th>\n",
       "    </tr>\n",
       "  </thead>\n",
       "  <tbody>\n",
       "    <tr>\n",
       "      <th>0</th>\n",
       "      <td>Pregnancy</td>\n",
       "      <td>Pregnant women that received ANC First visit b...</td>\n",
       "      <td>First ANC Visit</td>\n",
       "      <td>&lt;16 weeks gestation</td>\n",
       "      <td>No</td>\n",
       "      <td>Yes</td>\n",
       "      <td>Yes</td>\n",
       "      <td>Yes</td>\n",
       "      <td>Yes</td>\n",
       "      <td>Yes</td>\n",
       "      <td>...</td>\n",
       "      <td>Notavailable</td>\n",
       "      <td>Notavailable</td>\n",
       "      <td>Notavailable</td>\n",
       "      <td>Notavailable</td>\n",
       "      <td>Notavailable</td>\n",
       "      <td>Notavailable</td>\n",
       "      <td>Notavailable</td>\n",
       "      <td>Notavailable</td>\n",
       "      <td>Notavailable</td>\n",
       "      <td>Treated</td>\n",
       "    </tr>\n",
       "    <tr>\n",
       "      <th>1</th>\n",
       "      <td>Pregnancy</td>\n",
       "      <td>Pregnant women that received ANC First visit b...</td>\n",
       "      <td>First ANC Visit</td>\n",
       "      <td>&lt;16 weeks gestation</td>\n",
       "      <td>No</td>\n",
       "      <td>No</td>\n",
       "      <td>No</td>\n",
       "      <td>No</td>\n",
       "      <td>No</td>\n",
       "      <td>Notavailable</td>\n",
       "      <td>...</td>\n",
       "      <td>Notavailable</td>\n",
       "      <td>Notavailable</td>\n",
       "      <td>Notavailable</td>\n",
       "      <td>Notavailable</td>\n",
       "      <td>Notavailable</td>\n",
       "      <td>Notavailable</td>\n",
       "      <td>Notavailable</td>\n",
       "      <td>Notavailable</td>\n",
       "      <td>No</td>\n",
       "      <td>Treated</td>\n",
       "    </tr>\n",
       "  </tbody>\n",
       "</table>\n",
       "<p>2 rows × 63 columns</p>\n",
       "</div>"
      ],
      "text/plain": [
       "  Disease_Name                                           Category  \\\n",
       "0    Pregnancy  Pregnant women that received ANC First visit b...   \n",
       "1    Pregnancy  Pregnant women that received ANC First visit b...   \n",
       "\n",
       "              Type               Status DangerSign abdominalPain headache  \\\n",
       "0  First ANC Visit  <16 weeks gestation         No           Yes      Yes   \n",
       "1  First ANC Visit  <16 weeks gestation         No            No       No   \n",
       "\n",
       "  SleepingSickness Cough      Vomiting  ...        Stress HepatitisTest  \\\n",
       "0              Yes   Yes           Yes  ...  Notavailable  Notavailable   \n",
       "1               No    No  Notavailable  ...  Notavailable  Notavailable   \n",
       "\n",
       "         RedEye     DarkUrine      Jaundice  Hypertension AbdominalCramp  \\\n",
       "0  Notavailable  Notavailable  Notavailable  Notavailable   Notavailable   \n",
       "1  Notavailable  Notavailable  Notavailable  Notavailable   Notavailable   \n",
       "\n",
       "  InfectionDeveloped           ART       CP  \n",
       "0       Notavailable  Notavailable  Treated  \n",
       "1       Notavailable            No  Treated  \n",
       "\n",
       "[2 rows x 63 columns]"
      ]
     },
     "execution_count": 23,
     "metadata": {},
     "output_type": "execute_result"
    }
   ],
   "source": [
    "df.head(2)"
   ]
  },
  {
   "cell_type": "code",
   "execution_count": 24,
   "metadata": {},
   "outputs": [],
   "source": [
    "# df['Type'].values"
   ]
  },
  {
   "cell_type": "code",
   "execution_count": 25,
   "metadata": {},
   "outputs": [
    {
     "data": {
      "text/html": [
       "<div>\n",
       "<style scoped>\n",
       "    .dataframe tbody tr th:only-of-type {\n",
       "        vertical-align: middle;\n",
       "    }\n",
       "\n",
       "    .dataframe tbody tr th {\n",
       "        vertical-align: top;\n",
       "    }\n",
       "\n",
       "    .dataframe thead th {\n",
       "        text-align: right;\n",
       "    }\n",
       "</style>\n",
       "<table border=\"1\" class=\"dataframe\">\n",
       "  <thead>\n",
       "    <tr style=\"text-align: right;\">\n",
       "      <th></th>\n",
       "      <th>Disease_Name</th>\n",
       "      <th>Category</th>\n",
       "      <th>Type</th>\n",
       "      <th>Status</th>\n",
       "      <th>DangerSign</th>\n",
       "      <th>abdominalPain</th>\n",
       "      <th>headache</th>\n",
       "      <th>SleepingSickness</th>\n",
       "      <th>Cough</th>\n",
       "      <th>Vomiting</th>\n",
       "      <th>...</th>\n",
       "      <th>Stress</th>\n",
       "      <th>HepatitisTest</th>\n",
       "      <th>RedEye</th>\n",
       "      <th>DarkUrine</th>\n",
       "      <th>Jaundice</th>\n",
       "      <th>Hypertension</th>\n",
       "      <th>AbdominalCramp</th>\n",
       "      <th>InfectionDeveloped</th>\n",
       "      <th>ART</th>\n",
       "      <th>CP</th>\n",
       "    </tr>\n",
       "  </thead>\n",
       "  <tbody>\n",
       "    <tr>\n",
       "      <th>0</th>\n",
       "      <td>Pregnancy</td>\n",
       "      <td>Pregnant women that received ANC First visit b...</td>\n",
       "      <td>First ANC Visit</td>\n",
       "      <td>&lt;16 weeks gestation</td>\n",
       "      <td>No</td>\n",
       "      <td>Yes</td>\n",
       "      <td>Yes</td>\n",
       "      <td>Yes</td>\n",
       "      <td>Yes</td>\n",
       "      <td>Yes</td>\n",
       "      <td>...</td>\n",
       "      <td>Notavailable</td>\n",
       "      <td>Notavailable</td>\n",
       "      <td>Notavailable</td>\n",
       "      <td>Notavailable</td>\n",
       "      <td>Notavailable</td>\n",
       "      <td>Notavailable</td>\n",
       "      <td>Notavailable</td>\n",
       "      <td>Notavailable</td>\n",
       "      <td>Notavailable</td>\n",
       "      <td>Treated</td>\n",
       "    </tr>\n",
       "    <tr>\n",
       "      <th>1</th>\n",
       "      <td>Pregnancy</td>\n",
       "      <td>Pregnant women that received ANC First visit b...</td>\n",
       "      <td>First ANC Visit</td>\n",
       "      <td>&lt;16 weeks gestation</td>\n",
       "      <td>No</td>\n",
       "      <td>No</td>\n",
       "      <td>No</td>\n",
       "      <td>No</td>\n",
       "      <td>No</td>\n",
       "      <td>Notavailable</td>\n",
       "      <td>...</td>\n",
       "      <td>Notavailable</td>\n",
       "      <td>Notavailable</td>\n",
       "      <td>Notavailable</td>\n",
       "      <td>Notavailable</td>\n",
       "      <td>Notavailable</td>\n",
       "      <td>Notavailable</td>\n",
       "      <td>Notavailable</td>\n",
       "      <td>Notavailable</td>\n",
       "      <td>No</td>\n",
       "      <td>Treated</td>\n",
       "    </tr>\n",
       "  </tbody>\n",
       "</table>\n",
       "<p>2 rows × 63 columns</p>\n",
       "</div>"
      ],
      "text/plain": [
       "  Disease_Name                                           Category  \\\n",
       "0    Pregnancy  Pregnant women that received ANC First visit b...   \n",
       "1    Pregnancy  Pregnant women that received ANC First visit b...   \n",
       "\n",
       "              Type               Status DangerSign abdominalPain headache  \\\n",
       "0  First ANC Visit  <16 weeks gestation         No           Yes      Yes   \n",
       "1  First ANC Visit  <16 weeks gestation         No            No       No   \n",
       "\n",
       "  SleepingSickness Cough      Vomiting  ...        Stress HepatitisTest  \\\n",
       "0              Yes   Yes           Yes  ...  Notavailable  Notavailable   \n",
       "1               No    No  Notavailable  ...  Notavailable  Notavailable   \n",
       "\n",
       "         RedEye     DarkUrine      Jaundice  Hypertension AbdominalCramp  \\\n",
       "0  Notavailable  Notavailable  Notavailable  Notavailable   Notavailable   \n",
       "1  Notavailable  Notavailable  Notavailable  Notavailable   Notavailable   \n",
       "\n",
       "  InfectionDeveloped           ART       CP  \n",
       "0       Notavailable  Notavailable  Treated  \n",
       "1       Notavailable            No  Treated  \n",
       "\n",
       "[2 rows x 63 columns]"
      ]
     },
     "execution_count": 25,
     "metadata": {},
     "output_type": "execute_result"
    }
   ],
   "source": [
    "df['Type'] = df['Type'].replace(np.nan, \"NotKnown\")\n",
    "df.head(2)"
   ]
  },
  {
   "cell_type": "markdown",
   "metadata": {},
   "source": [
    "## 7. Encoding the dataset "
   ]
  },
  {
   "cell_type": "code",
   "execution_count": 26,
   "metadata": {},
   "outputs": [],
   "source": [
    "# assign the copy of the original data\n",
    "df = hcdata\n",
    "\n",
    "#conver into categrorical variables\n",
    "df = convert_into_categorical_values(df)\n",
    "\n",
    "def LabelEncoding(CPdata):\n",
    "    \"\"\"Label Encoding: Simply converting each value in a column to a number. \n",
    "    Label encoding has the advantage that it is straightforward but it has the disadvantage that \n",
    "    the numeric values can be “misinterpreted” by the algorithms. \n",
    "    For example, the value of 0 is obviously less than the value of 4 but does \n",
    "    that really correspond to the data set in real life?\n",
    "    \"\"\"\n",
    "    for col in CPdata:\n",
    "        CPdata[col] = CPdata[col].cat.codes\n",
    "    return CPdata\n",
    "\n",
    "def oneHotEncoding(data):\n",
    "    non_dummy_cols = ['CP'] \n",
    "    dummy_cols = list(set(data.columns) - set(non_dummy_cols))\n",
    "    data = pd.get_dummies(data, columns=dummy_cols)\n",
    "    return data\n",
    "\n",
    "def frequencyEncoding(data):\n",
    "    no_frq_cols = ['CP']\n",
    "    frq_cols = list(set(data.columns) - set(no_frq_cols))\n",
    "    for col in frq_cols:\n",
    "        # create the dictionary\n",
    "        count_CurrentColumn = data[col].value_counts().to_dict()\n",
    "        # Map the column with dictionary\n",
    "        data[col] = data[col].map(count_CurrentColumn)\n",
    "    return data"
   ]
  },
  {
   "cell_type": "code",
   "execution_count": 27,
   "metadata": {},
   "outputs": [],
   "source": [
    "#df=frequencyEncoding(df)"
   ]
  },
  {
   "cell_type": "markdown",
   "metadata": {},
   "source": [
    "### Choose Encoding Techniques for Expermentation"
   ]
  },
  {
   "cell_type": "code",
   "execution_count": null,
   "metadata": {},
   "outputs": [],
   "source": [
    "choice = int(input(\"1=Label Encoding, 2=ONE HOT Encoding, 3= Freqency Encoding \"))\n",
    "df = hcdata\n",
    "df = convert_into_categorical_values(df)\n",
    "if choice == 1:\n",
    "    df = LabelEncoding(df)\n",
    "    print(\"1- Label Encoding is Selected to encode the df\")\n",
    "elif choice == 2:\n",
    "    df = oneHotEncoding(df)\n",
    "    print(\"2- One Hot Encoding is Selected to encode the df\")\n",
    "else:\n",
    "    df = frequencyEncoding(df)\n",
    "    print(\"3- Frequency Encoding is selected\")"
   ]
  },
  {
   "cell_type": "markdown",
   "metadata": {},
   "source": [
    "#### Validate and Visualize the encoding "
   ]
  },
  {
   "cell_type": "code",
   "execution_count": null,
   "metadata": {},
   "outputs": [],
   "source": [
    "df.head(2)"
   ]
  },
  {
   "cell_type": "code",
   "execution_count": null,
   "metadata": {},
   "outputs": [],
   "source": [
    "df.shape"
   ]
  },
  {
   "cell_type": "markdown",
   "metadata": {},
   "source": [
    "## 8.  Split the target class"
   ]
  },
  {
   "cell_type": "code",
   "execution_count": null,
   "metadata": {},
   "outputs": [],
   "source": [
    "def splitTargetClass(data):\n",
    "    X = data.drop('CP', axis=1)\n",
    "    y = data['CP']\n",
    "    return X,y"
   ]
  },
  {
   "cell_type": "code",
   "execution_count": null,
   "metadata": {},
   "outputs": [],
   "source": [
    "X,y = splitTargetClass(df)"
   ]
  },
  {
   "cell_type": "markdown",
   "metadata": {},
   "source": [
    "## 9.  Baseline Classficaion model"
   ]
  },
  {
   "cell_type": "code",
   "execution_count": null,
   "metadata": {},
   "outputs": [],
   "source": [
    "def dummyClassifier(X,y):\n",
    "    \"\"\"\n",
    "     Before building a classification model, let’s build a Dummy Classifier to determine the ‘baseline’ performance. \n",
    "     This answers the question — ‘What would be the success rate of the model, if one were simply guessing?’ \n",
    "     The dummy classifier we are using will simply predict the majority class.\n",
    "    \"\"\"\n",
    "    X_train, X_test, y_train, y_test = train_test_split(X, y, random_state=42)\n",
    "    clf = DummyClassifier(strategy= 'most_frequent').fit(X_train,y_train)\n",
    "    y_pred = clf.predict(X_test)\n",
    "    \n",
    "    #Distribution of y test\n",
    "    print('y actual : \\n' +  str(y_test.value_counts()))\n",
    "    \n",
    "    #Distribution of y predicted\n",
    "    print('y predicted : \\n' + str(pd.Series(y_pred).value_counts()))\n",
    "    \n",
    "    # Model Evaluation metrics ... from sklearn.metrics import accuracy_score,recall_score,precision_score,f1_score\n",
    "    print('Accuracy Score : ' + str(accuracy_score(y_test,y_pred)))\n",
    "    print('Precision Score : ' + str(precision_score(y_test,y_pred)))\n",
    "    print('Recall Score : ' + str(recall_score(y_test,y_pred)))\n",
    "    print('F1 Score : ' + str(f1_score(y_test,y_pred)))\n",
    "\n",
    "    #Dummy Classifier Confusion matrix .... from sklearn.metrics import confusion_matrix\n",
    "    print('Confusion Matrix : \\n' + str(confusion_matrix(y_test,y_pred)))\n",
    "    \n",
    "    \n",
    "    # prediction probabalities \n",
    "    r_probs = [0 for _ in range(len(y_test))]\n",
    "    DummyClassifier_probs = clf.predict_proba(X_test)\n",
    "    \n",
    "    #probablities for the postive outcoe is kept\n",
    "    DummyClassifier_probs = DummyClassifier_probs[:, 1]\n",
    "    \n",
    "    #calcualte AUROC\n",
    "    DummyClassifier_auc = roc_auc_score(y_test, DummyClassifier_probs)\n",
    "    print('Naive Bayes: DummyClassifier_auc = %.3f' % (DummyClassifier_auc))\n",
    "    \n",
    "    # Calculate ROC curev\n",
    "    DummyClassifier_fpr, DummyClassifier_tpr, _ = roc_curve(y_test, DummyClassifier_probs)\n",
    "    \n",
    "    #Plot ROC Curve\n",
    "    plt.plot(DummyClassifier_fpr, DummyClassifier_tpr, marker='.', label='DummyClassifier_ (DummyClassifier_auc = %0.3f)' % DummyClassifier_auc)\n",
    "    # Title\n",
    "    plt.title('ROC Plot')\n",
    "    # Axis labels\n",
    "    plt.xlabel('False Positive Rate')\n",
    "    plt.ylabel('True Positive Rate')\n",
    "    # Show legend\n",
    "    plt.legend() # \n",
    "    # Show plot\n",
    "    DummyClassifierroc = plt.show()"
   ]
  },
  {
   "cell_type": "code",
   "execution_count": null,
   "metadata": {},
   "outputs": [],
   "source": [
    "dummyClassifier(X,y)"
   ]
  },
  {
   "cell_type": "code",
   "execution_count": null,
   "metadata": {},
   "outputs": [],
   "source": [
    "#class  dummy_classifier_class:\n",
    "def dummy_classifier(X,y):\n",
    "    X_train, X_test, y_train, y_test = train_test_split(X, y, random_state=42)\n",
    "    clf = DummyClassifier(strategy= 'most_frequent').fit(X_train,y_train)\n",
    "    y_pred = clf.predict(X_test)\n",
    "    #Distribution of y test\n",
    "    print('y actual : \\n' +  str(y_test.value_counts()))\n",
    "    \n",
    "    #Distribution of y predicted\n",
    "    print('y predicted : \\n' + str(pd.Series(y_pred).value_counts()))\n",
    "\n",
    "    # Model Evaluation metrics ... from sklearn.metrics import accuracy_score,recall_score,precision_score,f1_score\n",
    "    print('Accuracy Score : ' + str(accuracy_score(y_test,y_pred)))\n",
    "    print('Precision Score : ' + str(precision_score(y_test,y_pred)))\n",
    "    print('Recall Score : ' + str(recall_score(y_test,y_pred)))\n",
    "    print('F1 Score : ' + str(f1_score(y_test,y_pred)))\n",
    "    \n",
    "    #Dummy Classifier Confusion matrix .... from sklearn.metrics import confusion_matrix\n",
    "    print('Confusion Matrix : \\n' + str(confusion_matrix(y_test,y_pred)))\n",
    "\n",
    "        \n",
    "    # plot ROC Curve  \n",
    "    def plot_ROC_Curve():\n",
    "        # prediction probabalities \n",
    "        r_probs = [0 for _ in range(len(y_test))]\n",
    "        DummyClassifier_probs = clf.predict_proba(X_test)\n",
    "\n",
    "        #probablities for the postive outcoe is kept\n",
    "        DummyClassifier_probs = DummyClassifier_probs[:, 1]\n",
    "\n",
    "        #calcualte AUROC\n",
    "        DummyClassifier_auc = roc_auc_score(y_test, DummyClassifier_probs)\n",
    "        print('Naive Bayes: DummyClassifier_auc = %.3f' % (DummyClassifier_auc))\n",
    "\n",
    "        # Calculate ROC curev\n",
    "        DummyClassifier_fpr, DummyClassifier_tpr, _ = roc_curve(y_test, DummyClassifier_probs)\n",
    "\n",
    "        #Plot ROC Curve\n",
    "        plt.plot(DummyClassifier_fpr, DummyClassifier_tpr, marker='.', label='DummyClassifier_ (AUROC = %0.3f)' % DummyClassifier_auc)\n",
    "        # Title\n",
    "        plt.title('ROC Plot')\n",
    "        # Axis labels\n",
    "        plt.xlabel('False Positive Rate')\n",
    "        plt.ylabel('True Positive Rate')\n",
    "        # Show legend\n",
    "        plt.legend() # \n",
    "        # Show plot\n",
    "        DummyClassifierroc = plt.show()\n",
    "    plot_ROC_Curve()"
   ]
  },
  {
   "cell_type": "code",
   "execution_count": null,
   "metadata": {},
   "outputs": [],
   "source": [
    "#dummy_classifier_class.plot_ROC_Curve()\n",
    "dummy_classifier(X,y)"
   ]
  },
  {
   "cell_type": "markdown",
   "metadata": {},
   "source": [
    "## 10 . Train Naive Bayes Clinical Pathways "
   ]
  },
  {
   "cell_type": "code",
   "execution_count": null,
   "metadata": {},
   "outputs": [],
   "source": [
    "def train_ClinicalPathways(parameters, target):\n",
    "    # Split dataset into training set and test set\n",
    "    X_train, X_test, y_train, y_test = train_test_split(X, y, test_size=0.25,random_state=42)\n",
    "    nbmodel = GaussianNB()\n",
    "    nbmodel.fit(X_train,y_train)\n",
    "    y_pred = nbmodel.predict(X_test)\n",
    "    accuracy = accuracy_score(y_test, y_pred)*100\n",
    "    \n",
    "    #draw ROC Curve\n",
    "    fpr, tpr, thersholds = roc_curve(y_test, nbmodel.predict_proba(X_test)[:,1])\n",
    "\n",
    "\n",
    "    #Distribution of y test\n",
    "    print('y actual : \\n' +  str(y_test.value_counts()))\n",
    "    \n",
    "    #Distribution of y predicted\n",
    "    print('y predicted : \\n' + str(pd.Series(y_pred).value_counts()))\n",
    "    \n",
    "    # Model Evaluation metrics ... from sklearn.metrics import accuracy_score,recall_score,precision_score,f1_score\n",
    "    print('Accuracy Score : ' + str(accuracy_score(y_test,y_pred)))\n",
    "    print('Precision Score : ' + str(precision_score(y_test,y_pred)))\n",
    "    print('Recall Score : ' + str(recall_score(y_test,y_pred)))\n",
    "    print('F1 Score : ' + str(f1_score(y_test,y_pred)))\n",
    "\n",
    "    #Dummy Classifier Confusion matrix .... from sklearn.metrics import confusion_matrix\n",
    "    print('Confusion Matrix : \\n' + str(confusion_matrix(y_test,y_pred)))\n",
    "    #return accuracy\n",
    "    return y_pred"
   ]
  },
  {
   "cell_type": "code",
   "execution_count": null,
   "metadata": {},
   "outputs": [],
   "source": [
    "train_ClinicalPathways(X,y)"
   ]
  },
  {
   "cell_type": "markdown",
   "metadata": {},
   "source": [
    "#### Naive Bayes"
   ]
  },
  {
   "cell_type": "code",
   "execution_count": null,
   "metadata": {},
   "outputs": [],
   "source": [
    "def CPNaiveBayes(X,y):\n",
    "    #Train the size \n",
    "    X_train, X_test, y_train, y_test = train_test_split(X, y, test_size=0.25,random_state=42)\n",
    "    nbmodel = GaussianNB()\n",
    "    nbmodel.fit(X_train,y_train)\n",
    "    \n",
    "    \"\"\" # prediction probabalities \n",
    "    r_probs = [0 for _ in range(len(y_test))]\n",
    "    nb_probs = nbmodel.predict_proba(X_test)\n",
    "    \n",
    "    #probablities for the postive outcoe is kept\n",
    "    nb_probs = nb_probs[:, 1]\n",
    "    \n",
    "    #calcualte AUROC\n",
    "    nb_auc = roc_auc_score(y_test, nb_probs)\n",
    "    print('Naive Bayes: AUROC = %.3f' % (nb_auc))\n",
    "    \n",
    "    # Calculate ROC curev\n",
    "    nb_fpr, nb_tpr, _ = roc_curve(y_test, nb_probs)\n",
    "    \n",
    "    #Plot ROC Curve\n",
    "    plt.plot(nb_fpr, nb_tpr, marker='.', label='Naive Bayes (AUROC = %0.3f)' % nb_auc)\n",
    "    # Title\n",
    "    plt.title('ROC Plot')\n",
    "    # Axis labels\n",
    "    plt.xlabel('False Positive Rate')\n",
    "    plt.ylabel('True Positive Rate')\n",
    "    # Show legend\n",
    "    plt.legend() # \n",
    "    # Show plot\n",
    "    nbroc = plt.show()\n",
    "    # return nbroc\n",
    "        # plot ROC Curve\"\"\"  \n",
    "    def plot_ROC_Curve():\n",
    "        # prediction probabalities \n",
    "        r_probs = [0 for _ in range(len(y_test))]\n",
    "        nb_probs = nbmodel.predict_proba(X_test)\n",
    "\n",
    "        #probablities for the postive outcoe is kept\n",
    "        nb_probs = nb_probs[:, 1]\n",
    "\n",
    "        #calcualte AUROC\n",
    "        nb_auc = roc_auc_score(y_test, nb_probs)\n",
    "        print('Naive Bayes: DummyClassifier_auc = %.3f' % (nb_auc))\n",
    "\n",
    "        # Calculate ROC curev\n",
    "        nb_fpr, nb_tpr, _ = roc_curve(y_test, nb_probs)\n",
    "\n",
    "        #Plot ROC Curve\n",
    "        plt.plot(nb_fpr,nb_tpr, marker='.', label='Naive Bayes_ (AUROC = %0.3f)' % nb_auc)\n",
    "        # Title\n",
    "        plt.title('ROC Plot')\n",
    "        # Axis labels\n",
    "        plt.xlabel('False Positive Rate')\n",
    "        plt.ylabel('True Positive Rate')\n",
    "        # Show legend\n",
    "        plt.legend() # \n",
    "        # Show plot\n",
    "        #nbroc = plt.show()\n",
    "    plot_ROC_Curve()"
   ]
  },
  {
   "cell_type": "code",
   "execution_count": null,
   "metadata": {},
   "outputs": [],
   "source": [
    "CPNaiveBayes(X, y)"
   ]
  },
  {
   "cell_type": "code",
   "execution_count": null,
   "metadata": {},
   "outputs": [],
   "source": [
    "X_train, X_test, y_train, y_test = train_test_split(X, y, test_size=0.25,random_state=42)\n",
    "nbmodel = GaussianNB()\n",
    "nbmodel.fit(X_train,y_train)"
   ]
  },
  {
   "cell_type": "markdown",
   "metadata": {},
   "source": [
    "#### Prediction probabilities "
   ]
  },
  {
   "cell_type": "code",
   "execution_count": null,
   "metadata": {},
   "outputs": [],
   "source": [
    "r_probs = [0 for _ in range(len(y_test))]\n",
    "nb_probs = nbmodel.predict_proba(X_test)"
   ]
  },
  {
   "cell_type": "markdown",
   "metadata": {},
   "source": [
    "Probabilities for the positive outcome is kept."
   ]
  },
  {
   "cell_type": "code",
   "execution_count": null,
   "metadata": {},
   "outputs": [],
   "source": [
    "nb_probs = nb_probs[:, 1]"
   ]
  },
  {
   "cell_type": "markdown",
   "metadata": {},
   "source": [
    "#### Computing AUROC and ROC curve values¶"
   ]
  },
  {
   "cell_type": "code",
   "execution_count": null,
   "metadata": {},
   "outputs": [],
   "source": [
    "from sklearn.metrics import roc_curve, roc_auc_score"
   ]
  },
  {
   "cell_type": "markdown",
   "metadata": {},
   "source": [
    "#### Calculate AUROC"
   ]
  },
  {
   "cell_type": "code",
   "execution_count": null,
   "metadata": {},
   "outputs": [],
   "source": [
    "nb_auc = roc_auc_score(y_test, nb_probs)"
   ]
  },
  {
   "cell_type": "code",
   "execution_count": null,
   "metadata": {},
   "outputs": [],
   "source": [
    "print('Naive Bayes: AUROC = %.3f' % (nb_auc))"
   ]
  },
  {
   "cell_type": "markdown",
   "metadata": {},
   "source": [
    "#### Calculate ROC curve"
   ]
  },
  {
   "cell_type": "code",
   "execution_count": null,
   "metadata": {},
   "outputs": [],
   "source": [
    "nb_fpr, nb_tpr, _ = roc_curve(y_test, nb_probs)"
   ]
  },
  {
   "cell_type": "markdown",
   "metadata": {},
   "source": [
    "#### Plot the ROC curve"
   ]
  },
  {
   "cell_type": "code",
   "execution_count": null,
   "metadata": {},
   "outputs": [],
   "source": [
    "plt.plot(nb_fpr, nb_tpr, marker='.', label='Naive Bayes (AUROC = %0.3f)' % nb_auc)\n",
    "\n",
    "# Title\n",
    "plt.title('ROC Plot')\n",
    "# Axis labels\n",
    "plt.xlabel('False Positive Rate')\n",
    "plt.ylabel('True Positive Rate')\n",
    "# Show legend\n",
    "plt.legend() # \n",
    "# Show plot\n",
    "plt.show()"
   ]
  },
  {
   "cell_type": "code",
   "execution_count": null,
   "metadata": {},
   "outputs": [],
   "source": []
  },
  {
   "cell_type": "code",
   "execution_count": null,
   "metadata": {},
   "outputs": [],
   "source": [
    "X_train, X_test, y_train, y_test = train_test_split(X, y, test_size=0.25,random_state=42)\n",
    "model = GaussianNB()\n",
    "model.fit(X_train,y_train)"
   ]
  },
  {
   "cell_type": "code",
   "execution_count": null,
   "metadata": {},
   "outputs": [],
   "source": [
    "y_pred = model.predict(X_test)\n",
    "fpr,tpr, thersholds = roc_curve(y_test, model.predict_proba(X_test)[:,1])\n",
    "roc_auc1 = roc_auc_score(y_test, model.predict(X_test))"
   ]
  },
  {
   "cell_type": "code",
   "execution_count": null,
   "metadata": {},
   "outputs": [],
   "source": [
    "def plotROC():\n",
    "    plt.figure()\n",
    "    plt.plot(fpr, tpr, label='Naive Bayes Guassain(Sensitivity = %0.3f)' %roc_auc1)\n",
    "    plt.plot([0,1],[0,1],'r--')\n",
    "    plt.xlim([0.0,1.0])\n",
    "    plt.ylim([0.0,1.05])\n",
    "    plt.xlabel(\"False Positive Rate\")\n",
    "    plt.ylabel(\"True Positive Rate\")\n",
    "    plt.title(\"Receiver Operating Characteristic\")\n",
    "    plt.legend(loc=\"lower right\")\n",
    "    #plt.savefig('ROC')\n",
    "    plt.show()"
   ]
  },
  {
   "cell_type": "code",
   "execution_count": null,
   "metadata": {},
   "outputs": [],
   "source": [
    "plotROC()"
   ]
  },
  {
   "cell_type": "markdown",
   "metadata": {},
   "source": [
    "Save the Model"
   ]
  },
  {
   "cell_type": "code",
   "execution_count": null,
   "metadata": {},
   "outputs": [],
   "source": [
    "import pickle "
   ]
  },
  {
   "cell_type": "code",
   "execution_count": null,
   "metadata": {},
   "outputs": [],
   "source": [
    "# Save the trained model as a pickle string. \n",
    "saved_model = pickle.dumps(model) \n",
    "  \n",
    "# Load the pickled model \n",
    "NB_from_pickle = pickle.loads(saved_model) \n",
    "  \n",
    "# Use the loaded pickled model to make predictions \n",
    "NB_from_pickle.predict(X_test) "
   ]
  },
  {
   "cell_type": "code",
   "execution_count": null,
   "metadata": {},
   "outputs": [],
   "source": []
  },
  {
   "cell_type": "markdown",
   "metadata": {},
   "source": [
    "#### Observation\n",
    "1. Overfitting"
   ]
  },
  {
   "cell_type": "code",
   "execution_count": null,
   "metadata": {},
   "outputs": [],
   "source": [
    "df.CP.value_counts()"
   ]
  },
  {
   "cell_type": "markdown",
   "metadata": {},
   "source": [
    "Result: Dummy Classfication = 86%, Naive Bayes= 100% "
   ]
  },
  {
   "cell_type": "markdown",
   "metadata": {},
   "source": [
    "## 11. Handling the data imbalance"
   ]
  },
  {
   "cell_type": "code",
   "execution_count": null,
   "metadata": {},
   "outputs": [],
   "source": [
    "# importing library package \n",
    "from sklearn.utils import resample"
   ]
  },
  {
   "cell_type": "markdown",
   "metadata": {},
   "source": [
    "### Up-sample Minority Class\n",
    "Up-sampling is the process of randomly duplicating observations from the minority class in order to reinforce its signal.\n",
    "\n",
    "Approache: simply resample with replacement"
   ]
  },
  {
   "cell_type": "code",
   "execution_count": null,
   "metadata": {},
   "outputs": [],
   "source": [
    "def UpSample_CP_MinorityClass(CPdata):\n",
    "    # Separate majority and minority classes\n",
    "    df_majority = CPdata[CPdata.CP==1]\n",
    "    df_minority = CPdata[CPdata.CP==0]\n",
    " \n",
    "    # Upsample minority class\n",
    "    df_minority_upsampled = resample(df_minority, \n",
    "                                 replace=True,     # sample with replacement\n",
    "                                 n_samples=576,    # to match majority class\n",
    "                                 random_state=123) # reproducible results\n",
    " \n",
    "    # Combine majority class with upsampled minority class\n",
    "    df_upsampled = pd.concat([df_majority, df_minority_upsampled])\n",
    " \n",
    "    # Display new class counts\n",
    "    print(df_upsampled.CP.value_counts())\n",
    "    return df_upsampled"
   ]
  },
  {
   "cell_type": "code",
   "execution_count": null,
   "metadata": {},
   "outputs": [],
   "source": [
    "df_upsampled = UpSample_CP_MinorityClass(df)"
   ]
  },
  {
   "cell_type": "markdown",
   "metadata": {},
   "source": [
    "#### Visualize after UpSampling the Minority Class"
   ]
  },
  {
   "cell_type": "code",
   "execution_count": null,
   "metadata": {},
   "outputs": [],
   "source": [
    "ClinicalPathways_ClassVIZ(df_upsampled)"
   ]
  },
  {
   "cell_type": "code",
   "execution_count": null,
   "metadata": {},
   "outputs": [],
   "source": [
    "X,y = splitTargetClass(df_upsampled)"
   ]
  },
  {
   "cell_type": "code",
   "execution_count": null,
   "metadata": {},
   "outputs": [],
   "source": [
    "dummyClassifier(X,y)"
   ]
  },
  {
   "cell_type": "code",
   "execution_count": null,
   "metadata": {},
   "outputs": [],
   "source": [
    "CPNaiveBayes(X, y)"
   ]
  },
  {
   "cell_type": "markdown",
   "metadata": {},
   "source": [
    "### Down- Sample Majority Class\n",
    "\n",
    "Down-sampling involves randomly removing observations from the majority class to prevent its signal from dominating the learning algorithm.\n",
    "\n"
   ]
  },
  {
   "cell_type": "code",
   "execution_count": null,
   "metadata": {},
   "outputs": [],
   "source": [
    "def DownSample_CP_MajorityClass(CPdata):\n",
    "    # Separate majority and minority classes\n",
    "    df_majority = CPdata[CPdata.CP==1]\n",
    "    df_minority = CPdata[CPdata.CP==0]\n",
    " \n",
    "    # Downsample majority class\n",
    "    df_majority_downsampled = resample(df_majority, \n",
    "                                 replace=False,    # sample without replacement\n",
    "                                 n_samples=49,     # to match minority class\n",
    "                                 random_state=123) # reproducible results\n",
    " \n",
    "    # Combine minority class with downsampled majority class\n",
    "    df_downsampled = pd.concat([df_majority_downsampled, df_minority])\n",
    " \n",
    "    # Display new class counts\n",
    "    print(df_downsampled.CP.value_counts())\n",
    "    return df_downsampled\n",
    "\n"
   ]
  },
  {
   "cell_type": "code",
   "execution_count": null,
   "metadata": {},
   "outputs": [],
   "source": [
    "CP_downsampled = DownSample_CP_MajorityClass(df)"
   ]
  },
  {
   "cell_type": "code",
   "execution_count": null,
   "metadata": {},
   "outputs": [],
   "source": [
    "X,y = splitTargetClass(CP_downsampled)"
   ]
  },
  {
   "cell_type": "code",
   "execution_count": null,
   "metadata": {},
   "outputs": [],
   "source": [
    "ClinicalPathways_ClassVIZ(CP_downsampled)"
   ]
  },
  {
   "cell_type": "code",
   "execution_count": null,
   "metadata": {},
   "outputs": [],
   "source": [
    "X,y = splitTargetClass(CP_downsampled)"
   ]
  },
  {
   "cell_type": "code",
   "execution_count": null,
   "metadata": {},
   "outputs": [],
   "source": [
    "dummyClassifier(X,y)"
   ]
  },
  {
   "cell_type": "code",
   "execution_count": null,
   "metadata": {},
   "outputs": [],
   "source": [
    "train_ClinicalPathways(X,y)"
   ]
  },
  {
   "cell_type": "code",
   "execution_count": null,
   "metadata": {},
   "outputs": [],
   "source": [
    "CPNaiveBayes(X, y)"
   ]
  },
  {
   "cell_type": "markdown",
   "metadata": {},
   "source": [
    "### Handling Clinical Pathways Class Imbalance "
   ]
  },
  {
   "cell_type": "markdown",
   "metadata": {},
   "source": [
    "#### Importing Libraries and Packages "
   ]
  },
  {
   "cell_type": "code",
   "execution_count": null,
   "metadata": {},
   "outputs": [],
   "source": [
    "from imblearn.combine import SMOTETomek\n",
    "# for under sampling \n",
    "from imblearn.under_sampling import NearMiss\n",
    "\n",
    "## RandomOverSampler to handle imbalanced data\n",
    "from imblearn.over_sampling import RandomOverSampler\n",
    "\n",
    "#counting the values \n",
    "from collections import Counter"
   ]
  },
  {
   "cell_type": "markdown",
   "metadata": {},
   "source": [
    "#### I. Under Sampling CP Class"
   ]
  },
  {
   "cell_type": "code",
   "execution_count": null,
   "metadata": {},
   "outputs": [],
   "source": [
    "# Implementing Undersampling for Handling Imbalanced \n",
    "nm = NearMiss()\n",
    "X_res,y_res=nm.fit_sample(X,y)"
   ]
  },
  {
   "cell_type": "code",
   "execution_count": null,
   "metadata": {},
   "outputs": [],
   "source": [
    "X_res.shape,y_res.shape"
   ]
  },
  {
   "cell_type": "code",
   "execution_count": null,
   "metadata": {},
   "outputs": [],
   "source": [
    "print('Original dataset shape {}'.format(Counter(y)))\n",
    "print('Resampled dataset shape {}'.format(Counter(y_res)))"
   ]
  },
  {
   "cell_type": "code",
   "execution_count": null,
   "metadata": {},
   "outputs": [],
   "source": [
    "dummy_classifier(X_res,y_res)"
   ]
  },
  {
   "cell_type": "code",
   "execution_count": null,
   "metadata": {},
   "outputs": [],
   "source": [
    "CPNaiveBayes(X_res,y_res)"
   ]
  },
  {
   "cell_type": "markdown",
   "metadata": {},
   "source": [
    "### II. Over Sampling CP Class: Using SMOTETomek"
   ]
  },
  {
   "cell_type": "code",
   "execution_count": null,
   "metadata": {},
   "outputs": [],
   "source": [
    "# Implementing Oversampling for Handling Imbalanced \n",
    "smk = SMOTETomek(random_state=42)\n",
    "X_res,y_res=smk.fit_sample(X,y)"
   ]
  },
  {
   "cell_type": "code",
   "execution_count": null,
   "metadata": {},
   "outputs": [],
   "source": [
    "X_res.shape,y_res.shape"
   ]
  },
  {
   "cell_type": "code",
   "execution_count": null,
   "metadata": {},
   "outputs": [],
   "source": [
    "print('Original dataset shape {}'.format(Counter(y)))\n",
    "print('Resampled dataset shape {}'.format(Counter(y_res)))"
   ]
  },
  {
   "cell_type": "code",
   "execution_count": null,
   "metadata": {},
   "outputs": [],
   "source": [
    "dummy_classifier(X_res,y_res)"
   ]
  },
  {
   "cell_type": "code",
   "execution_count": null,
   "metadata": {},
   "outputs": [],
   "source": [
    "CPNaiveBayes(X_res,y_res)"
   ]
  },
  {
   "cell_type": "markdown",
   "metadata": {},
   "source": [
    "### III. Over Sampling CP Class: Using Random Over Sampler"
   ]
  },
  {
   "cell_type": "code",
   "execution_count": null,
   "metadata": {},
   "outputs": [],
   "source": [
    "os = RandomOverSampler(sampling_strategy=0.5)"
   ]
  },
  {
   "cell_type": "code",
   "execution_count": null,
   "metadata": {},
   "outputs": [],
   "source": [
    "X_train_res, y_train_res = os.fit_sample(X, y)"
   ]
  },
  {
   "cell_type": "code",
   "execution_count": null,
   "metadata": {},
   "outputs": [],
   "source": [
    "X_train_res.shape,y_train_res.shape"
   ]
  },
  {
   "cell_type": "code",
   "execution_count": null,
   "metadata": {},
   "outputs": [],
   "source": [
    "print('Original dataset shape {}'.format(Counter(y)))\n",
    "print('Resampled dataset shape {}'.format(Counter(y_train_res)))"
   ]
  },
  {
   "cell_type": "code",
   "execution_count": null,
   "metadata": {},
   "outputs": [],
   "source": [
    "dummy_classifier(X_res,y_res)"
   ]
  },
  {
   "cell_type": "code",
   "execution_count": null,
   "metadata": {},
   "outputs": [],
   "source": [
    "CPNaiveBayes(X_res,y_res)"
   ]
  },
  {
   "cell_type": "markdown",
   "metadata": {},
   "source": [
    "### IV.  SMOTE CP Class (Hybrid Method) - under sampling method (Tomek) in with an over sampling method (SMOTE)."
   ]
  },
  {
   "cell_type": "code",
   "execution_count": null,
   "metadata": {},
   "outputs": [],
   "source": [
    "# In this example I use SMOTETomek which is a method of imblearn. SMOTETomek is a hybrid method\n",
    "# which uses an under sampling method (Tomek) in with an over sampling method (SMOTE).\n",
    "os_us = SMOTETomek(sampling_strategy=0.5)\n",
    "\n",
    "X_train_res1, y_train_res1 = os_us.fit_sample(X, y)"
   ]
  },
  {
   "cell_type": "code",
   "execution_count": null,
   "metadata": {},
   "outputs": [],
   "source": [
    "X_train_res1.shape,y_train_res1.shape"
   ]
  },
  {
   "cell_type": "code",
   "execution_count": null,
   "metadata": {},
   "outputs": [],
   "source": [
    "print('Original dataset shape {}'.format(Counter(y)))\n",
    "print('Resampled dataset shape {}'.format(Counter(y_train_res1)))"
   ]
  },
  {
   "cell_type": "code",
   "execution_count": null,
   "metadata": {},
   "outputs": [],
   "source": [
    "dummy_classifier(X_res,y_res)"
   ]
  },
  {
   "cell_type": "code",
   "execution_count": null,
   "metadata": {},
   "outputs": [],
   "source": [
    "CPNaiveBayes(X_res,y_res)"
   ]
  },
  {
   "cell_type": "markdown",
   "metadata": {},
   "source": [
    "#### Clinical Pathways Heatmaps and Correlation Matrix Plots in Python"
   ]
  },
  {
   "cell_type": "code",
   "execution_count": null,
   "metadata": {},
   "outputs": [],
   "source": [
    "def CPHeatmap():\n",
    "    # Create Correlation Matrix\n",
    "    corr_matrix = df.corr()\n",
    "    #corr_matrix\n",
    "\n",
    "    #Set Up Mask To Hide Upper Triangle\n",
    "    mask = np.zeros_like(corr_matrix, dtype=np.bool)\n",
    "    mask[np.triu_indices_from(mask)]= True\n",
    "    \n",
    "    #Create Heatmap in Seaborn\n",
    "    f, ax = plt.subplots(figsize=(30, 40))\n",
    "\n",
    "    heatmap = sns.heatmap(corr_matrix,\n",
    "                          mask = mask,\n",
    "                          square = True,\n",
    "                          linewidths = .5,\n",
    "                          cmap = 'coolwarm',\n",
    "                          cbar_kws = {'shrink': .4,\n",
    "                                    'ticks' : [-1, -.5, 0, 0.5, 1]},\n",
    "                          vmin = -1,\n",
    "                          vmax = 1,\n",
    "                          annot = True,\n",
    "                          annot_kws = {\"size\": 12})\n",
    "\n",
    "    #add the column names as labels\n",
    "    ax.set_yticklabels(corr_matrix.columns, rotation = 0)\n",
    "    ax.set_xticklabels(corr_matrix.columns)\n",
    "\n",
    "    sns.set_style({'xtick.bottom': True}, {'ytick.left': True})"
   ]
  },
  {
   "cell_type": "code",
   "execution_count": null,
   "metadata": {},
   "outputs": [],
   "source": [
    "# Display the heatmap \n",
    "#CPHeatmap()"
   ]
  },
  {
   "cell_type": "code",
   "execution_count": null,
   "metadata": {},
   "outputs": [],
   "source": [
    "def beforeCPDATASample():\n",
    "    # Sample figsize in inches\n",
    "    fig, ax = plt.subplots(figsize=(20,30))         \n",
    "    # Imbalanced DataFrame Correlation\n",
    "\n",
    "    corr = df.corr()\n",
    "    sns.heatmap(corr, cmap='YlGnBu', annot_kws={'size':30}, ax=ax)\n",
    "    ax.set_title(\"Imbalanced Correlation Matrix before sampling\", fontsize=14)\n",
    "    VIZ = plt.show()\n",
    "    return VIZ"
   ]
  },
  {
   "cell_type": "code",
   "execution_count": null,
   "metadata": {},
   "outputs": [],
   "source": [
    "#beforeCPDATASample()"
   ]
  },
  {
   "cell_type": "code",
   "execution_count": null,
   "metadata": {},
   "outputs": [],
   "source": [
    "def afterCPDATASample():\n",
    "    # Sample figsize in inches\n",
    "    fig, ax = plt.subplots(figsize=(20,30))         \n",
    "    # Imbalanced DataFrame Correlation\n",
    "    corr = CP_downsampled.corr()\n",
    "    sns.heatmap(corr, cmap='YlGnBu', annot_kws={'size':30}, ax=ax)\n",
    "    ax.set_title(\"Imbalanced Correlation Matrix after Sampling\", fontsize=14)\n",
    "    VIZ = plt.show()\n",
    "    return VIZ"
   ]
  },
  {
   "cell_type": "code",
   "execution_count": null,
   "metadata": {},
   "outputs": [],
   "source": [
    "#afterCPDATASample()"
   ]
  },
  {
   "cell_type": "code",
   "execution_count": null,
   "metadata": {},
   "outputs": [],
   "source": []
  },
  {
   "cell_type": "code",
   "execution_count": null,
   "metadata": {},
   "outputs": [],
   "source": []
  },
  {
   "cell_type": "code",
   "execution_count": null,
   "metadata": {},
   "outputs": [],
   "source": []
  },
  {
   "cell_type": "code",
   "execution_count": null,
   "metadata": {},
   "outputs": [],
   "source": []
  },
  {
   "cell_type": "code",
   "execution_count": null,
   "metadata": {},
   "outputs": [],
   "source": []
  },
  {
   "cell_type": "code",
   "execution_count": null,
   "metadata": {},
   "outputs": [],
   "source": []
  },
  {
   "cell_type": "code",
   "execution_count": null,
   "metadata": {},
   "outputs": [],
   "source": []
  }
 ],
 "metadata": {
  "kernelspec": {
   "display_name": "Python 3",
   "language": "python",
   "name": "python3"
  },
  "language_info": {
   "codemirror_mode": {
    "name": "ipython",
    "version": 3
   },
   "file_extension": ".py",
   "mimetype": "text/x-python",
   "name": "python",
   "nbconvert_exporter": "python",
   "pygments_lexer": "ipython3",
   "version": "3.7.3"
  }
 },
 "nbformat": 4,
 "nbformat_minor": 4
}
