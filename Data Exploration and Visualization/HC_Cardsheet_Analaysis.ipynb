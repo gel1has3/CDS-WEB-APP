{
 "cells": [
  {
   "cell_type": "markdown",
   "metadata": {},
   "source": [
    "# Visual Inspection  of Health Center -  Cardsheet  and CG Generated  Data"
   ]
  },
  {
   "cell_type": "markdown",
   "metadata": {},
   "source": [
    "This is a part of a Ph.D research project entitled with \"Developing clincal decision support point of care instrument for low resource settings\". It's supervised by  Bart Jansen (Prof), Frank Verbeke (Prof), Jan Cornelis (Prof), Girum Ketema (Ass.Prof) and Demesewu Amenu (Associate Prof). \n",
    "  "
   ]
  },
  {
   "cell_type": "markdown",
   "metadata": {},
   "source": [
    "# Ehtiopian Primary Health System (Highlights) "
   ]
  },
  {
   "cell_type": "markdown",
   "metadata": {},
   "source": [
    "1. The public health  care system in Ethiopia is structured around the concept of a “health network model” that uses a three tiered health care delivery levels namely primary, secondary and tertiary levels with defined populations to be served at each level.  \n",
    "\n",
    "2. For rural settings at the base is the primary health care unit that is a health centre with five satellite health posts catering to a population of 25,000; followed by  a primary hospital, serving a population of  60,000 to 100,000; and next a general  hospital, providing services to 1 up to 1.5 million beneficiaries.  For urban setting at the base is a health center serving 40,000 people, followed by a general hospital as in the rural setting. At the apex of both structures is specialized hospital which serves 3.5 to 5 million people\n",
    "\n"
   ]
  },
  {
   "cell_type": "code",
   "execution_count": null,
   "metadata": {},
   "outputs": [],
   "source": [
    "#importing the required labraries \n",
    "import pandas as pd\n",
    "import matplotlib.pyplot as plt\n",
    "import seaborn as sns\n",
    "import numpy as np\n",
    "import holoviews as hv\n",
    "import datashader as ds\n",
    "import dask as dask\n",
    "import bokeh as bokeh\n",
    "#import chart_studio.plotly as py\n",
    "import holoviews as hv\n",
    "import datashader as ds\n",
    "import dask as dask\n",
    "import bokeh as bokeh\n",
    "import cufflinks as cf\n",
    "\n",
    "\n",
    "import ipywidgets as widgets\n",
    "from ipywidgets import interact, interact_manual\n",
    "\n",
    "# Using plotly + cufflinks in offline mode\n",
    "import cufflinks\n",
    "cufflinks.go_offline(connected=True)\n",
    "#init_notebook_mode(connected=True)\n",
    "import ipywidgets as widgets\n",
    "from ipywidgets import SelectionSlider\n",
    "from ipywidgets import interact, interact_manual\n",
    "import os\n",
    "from IPython.display import Image\n"
   ]
  },
  {
   "cell_type": "markdown",
   "metadata": {},
   "source": [
    "# Reference file used w  "
   ]
  },
  {
   "cell_type": "code",
   "execution_count": null,
   "metadata": {},
   "outputs": [],
   "source": [
    "#to be added soon"
   ]
  },
  {
   "cell_type": "markdown",
   "metadata": {},
   "source": [
    "# Facts and challenges of the healthcenter service "
   ]
  },
  {
   "cell_type": "code",
   "execution_count": null,
   "metadata": {},
   "outputs": [],
   "source": [
    "from IPython.display import YouTubeVideo\n",
    "YouTubeVideo('rsOeJFYro2Y', start=13)"
   ]
  },
  {
   "cell_type": "markdown",
   "metadata": {},
   "source": [
    "# Q ? "
   ]
  },
  {
   "cell_type": "markdown",
   "metadata": {},
   "source": [
    "Inspecting the card-sheet and CG to uncover and answer:\n",
    "1. How are the diseases responsible for a certain complaint? \n",
    "2. Whcih disease are serious and treatble?\n",
    "3. How the treatment and referral decision is made?  \n",
    "4. What are the relevant findings form each or these diseases?\n"
   ]
  },
  {
   "cell_type": "markdown",
   "metadata": {},
   "source": [
    "# Part -I : Health Center - Cardsheet "
   ]
  },
  {
   "cell_type": "markdown",
   "metadata": {},
   "source": [
    "1. Import the CSV cardsheet dataset"
   ]
  },
  {
   "cell_type": "code",
   "execution_count": null,
   "metadata": {},
   "outputs": [],
   "source": [
    "#import the health cetner RRL (wit ICPC-2 and ICD11 format)\n",
    "\n",
    "#pregancy detail dataset: PregnacyDetailbyCat-Table 1.csv\n",
    "#All hc dataset: AllHCDataset-Table 1.csv \n",
    "#Aug 2 oct dataset:Aug2OctPart2-Table 1.csv\n",
    "#april2june dataset: April2JunePart1-Table 1.csv\n",
    "\n",
    "hcdf = pd.read_csv(\"AllHCDataset-Table 1.csv\", encoding='utf-8')\n"
   ]
  },
  {
   "cell_type": "markdown",
   "metadata": {},
   "source": [
    "2. Splitting TR_Date"
   ]
  },
  {
   "cell_type": "code",
   "execution_count": null,
   "metadata": {},
   "outputs": [],
   "source": [
    "#Splitting the date into year, month and date\n",
    "hcdf['TR_Date'] = pd.to_datetime(hcdf.TR_Date,errors='coerce')\n",
    "hcdf['Day'],hcdf['Month'],hcdf['Year'] = hcdf.TR_Date.dt.day, hcdf.TR_Date.dt.month, hcdf.TR_Date.dt.year\n",
    "\n",
    "#display the new RRL list  \n",
    "#interacting with the raw healthcenter CSV dataset\n",
    "@interact\n",
    "def show_referral_by_age(column=[\"SN\"],x=(5,1000,5)):\n",
    "    return hcdf.loc[hcdf[column] >x]"
   ]
  },
  {
   "cell_type": "code",
   "execution_count": null,
   "metadata": {},
   "outputs": [],
   "source": [
    "hcdf.shape"
   ]
  },
  {
   "cell_type": "markdown",
   "metadata": {},
   "source": [
    "2. Filiter by ICPC2_Classfication"
   ]
  },
  {
   "cell_type": "code",
   "execution_count": null,
   "metadata": {},
   "outputs": [],
   "source": [
    "#Health center cardsheet data fliter by ICPC2  and disease name\n",
    "\n",
    "#Step-1: a generic fucntion is rquired to capture uniques unique values \n",
    "ALL = 'ALL' \n",
    "def unique_sorted_values(array):\n",
    "    unique = array.unique().tolist()\n",
    "    unique.sort()\n",
    "    unique.insert(0, ALL)\n",
    "    return unique\n",
    "\n",
    "#Step-2: intialize a variable to capture the ICPC2 and Disease \n",
    "\n",
    "output = widgets.Output()\n",
    "\n",
    "icpc2Classfication = widgets.Dropdown(options =unique_sorted_values(hcdf.ICPC2_Classfication.astype(str)), description=\"Ref. Reason\")\n",
    "diseaseName = widgets.Dropdown(options =unique_sorted_values(hcdf.Disease_Name),description=\"Feedback: \")\n",
    "\n",
    "#Step-3: Write an event-handeler function     \n",
    "def healthCenter_flitering(icpc2, diseasename):\n",
    "    output.clear_output()\n",
    "\n",
    "    if (icpc2 == ALL) & (diseasename == ALL):\n",
    "        healthCenter_fliter = hcdf\n",
    "    elif (icpc2 == ALL):\n",
    "        healthCenter_fliter = hcdf[hcdf.Disease_Name == diseasename]\n",
    "    elif (diseasename == ALL):\n",
    "        healthCenter_fliter = hcdf[hcdf.ICPC2_Classfication == icpc2]\n",
    "    else:\n",
    "        healthCenter_fliter = hcdf[(hcdf.ICPC2_Classfication == icpc2) & \n",
    "                                  (hcdf.Disease_Name == diseasename)]\n",
    "    \n",
    "    with output:\n",
    "        display(healthCenter_fliter)\n",
    "        \n",
    "#Step-4 : Bind to the event handler to the dropdown value         \n",
    "def healthCenter_icpc2_eventhandler(change):\n",
    "    healthCenter_flitering(change.new, icpc2Classfication.value)\n",
    "def healthCenter_diseasename_eventhandler(change):\n",
    "    healthCenter_flitering(icpc2Classfication.value, change.new)\n",
    "    \n",
    "icpc2Classfication.observe(healthCenter_icpc2_eventhandler, names='value')\n",
    "diseaseName.observe(healthCenter_diseasename_eventhandler, names='value')\n",
    "\n",
    "# Step-5: Display the result\n",
    "display(icpc2Classfication)\n",
    "display(diseaseName)\n",
    "display(output)"
   ]
  },
  {
   "cell_type": "code",
   "execution_count": null,
   "metadata": {},
   "outputs": [],
   "source": [
    "hcdf.shape"
   ]
  },
  {
   "cell_type": "code",
   "execution_count": null,
   "metadata": {},
   "outputs": [],
   "source": [
    "hcdf.CP.value_counts()"
   ]
  },
  {
   "cell_type": "code",
   "execution_count": null,
   "metadata": {},
   "outputs": [],
   "source": [
    "#count the missing value\n",
    "hcdf.count()"
   ]
  },
  {
   "cell_type": "markdown",
   "metadata": {},
   "source": [
    "Building Histogram for categorical values or objects "
   ]
  },
  {
   "cell_type": "code",
   "execution_count": null,
   "metadata": {},
   "outputs": [],
   "source": [
    "#building Histogram for categorical values or objects \n",
    "@interact \n",
    "def hist(x=list(hcdf.select_dtypes('object').columns),\n",
    "                 #theme=list(cf.themes.THEMES.keys()), \n",
    "                 theme=list(cf.getThemes()), \n",
    "                 colorscale=list(cf.colors._scales_names.keys())):\n",
    "    hcdf[x].iplot(kind='hist', x=x, mode='markers', xTitle='x',\n",
    "                   yTitle='count', title='Distribution',\n",
    "                   theme=theme, colorscale=colorscale)"
   ]
  },
  {
   "cell_type": "markdown",
   "metadata": {},
   "source": [
    "Interactive visulization: Inspecting objects or catagorical attributes "
   ]
  },
  {
   "cell_type": "code",
   "execution_count": null,
   "metadata": {},
   "outputs": [],
   "source": [
    "#Implmentaitng cross tab between two variables \n",
    "# Viz x=ICPC2 classfication or ICD 11 calssification and y=CP\n",
    "@interact \n",
    "def crosstab(x=list(hcdf.select_dtypes('object').columns), \n",
    "             y=list(hcdf.select_dtypes('object').columns)[1:],\n",
    "             w=5,h=5,\n",
    "             theme=list(cf.getThemes()), \n",
    "             colorscale=list(cf.colors._scales_names.keys())):\n",
    "    pd.crosstab(hcdf[x],hcdf[y]).plot.barh(figsize=(w,h)).legend(loc='center left', bbox_to_anchor=(0.3, 0.6))\n",
    "    plt.xlabel('No. of Count by the Path Followed')"
   ]
  },
  {
   "cell_type": "code",
   "execution_count": null,
   "metadata": {},
   "outputs": [],
   "source": [
    "pd.crosstab(hcdf.ICPC2_Classfication,hcdf.CP).plot.bar()#.legend(loc='uppper left', bbox_to_anchor=(0.8, 0.8)\n",
    "plt.ylabel('No. of Count')\n",
    "plt.xlabel('Figure 6. Summary of CPs based on card-sheet')\n",
    "plt.xticks(rotation=45, horizontalalignment='right',fontsize='medium')\n",
    "plt.legend(title='Clinical Pathways', bbox_to_anchor=(0.5, 0.64),fontsize='small', frameon=False)\n",
    "# plt.title('Figure 4: This is a somewhat long figure title', fontsize=16)\n",
    "plt.rcParams['figure.dpi'] = 150 # default for me was 75\n",
    "#plt.savefig('Figure 6. Summary of CPs based on card-sheet.pdf',dpi=1)\n"
   ]
  },
  {
   "cell_type": "code",
   "execution_count": null,
   "metadata": {},
   "outputs": [],
   "source": [
    "pd.crosstab(hcdf.CP,hcdf.ICPC2_Classfication).plot.barh(figsize=(5,5)).legend(loc='center left', bbox_to_anchor=(1, 0.5))\n",
    "plt.xlabel('No. of Count by the Path Followed')\n",
    "plt.ylabel('Clincal Pathway')"
   ]
  },
  {
   "cell_type": "code",
   "execution_count": null,
   "metadata": {},
   "outputs": [],
   "source": [
    "pd.crosstab(hcdf.CP,hcdf.ICD11_Classfication).plot.barh(figsize=(7,10)).legend(loc='center left', bbox_to_anchor=(1, 0.5))\n",
    "plt.xlabel('No. of Count by the Path Followed')\n",
    "plt.ylabel('Clincal Pathway')\n",
    "plt.legend(title='Reportable Cases in the Health Center', bbox_to_anchor=(1, 1))"
   ]
  },
  {
   "cell_type": "markdown",
   "metadata": {},
   "source": [
    "Exploring the frequencey or the summary of based on a certain attributes using catplot. This helps to visulize the frequencey of the flow of refferal based on the three selected data attributes."
   ]
  },
  {
   "cell_type": "code",
   "execution_count": null,
   "metadata": {},
   "outputs": [],
   "source": [
    "# Visulization of referred reason and age category based on the referred orginazation \n",
    "# And also different combination of VIZ also explored \n",
    "# x=icpc2 classfication,y=month or year or day and z= cp\n",
    "@interact \n",
    "def catplot(x=list(hcdf.select_dtypes('object').columns), \n",
    "            y=list(hcdf.select_dtypes('number').columns)[1:],\n",
    "            z=list(hcdf.select_dtypes('object').columns)[2:],\n",
    "            theme=list(cf.getThemes()), \n",
    "            colorscale=list(cf.colors._scales_names.keys())):\n",
    "    sns.catplot(x=x, y=y, hue=z,aspect=3,kind=\"swarm\",  data=hcdf);\n"
   ]
  },
  {
   "cell_type": "code",
   "execution_count": null,
   "metadata": {
    "scrolled": false
   },
   "outputs": [],
   "source": [
    "sns.catplot(x=\"CP\", y=\"Month\", hue=\"ICD11_Classfication\",kind=\"box\",dodge=True,\n",
    "            height=8, aspect=1.5,  data=hcdf,legend=False);\n",
    "plt.xticks(rotation=45, horizontalalignment='right',fontweight='light',fontsize='x-large')\n",
    "plt.legend(title='Reportable Cases in the Health Center', bbox_to_anchor=(1, 1))\n",
    "plt.xlabel('Finding or Path Followed')"
   ]
  },
  {
   "cell_type": "code",
   "execution_count": null,
   "metadata": {},
   "outputs": [],
   "source": []
  },
  {
   "cell_type": "code",
   "execution_count": null,
   "metadata": {},
   "outputs": [],
   "source": [
    "sns.catplot(x=\"CP\", y=\"Month\", hue=\"ICPC2_Classfication\",kind=\"box\",dodge=True,\n",
    "            height=8, aspect=1.5,  data=hcdf,legend=False);\n",
    "plt.xticks(rotation=45, horizontalalignment='right',fontweight='light',fontsize='x-large')\n",
    "plt.legend(title='Reportable Cases in the Health Center', bbox_to_anchor=(1, 1))\n",
    "plt.xlabel('Finding or Path Followed')"
   ]
  },
  {
   "cell_type": "markdown",
   "metadata": {},
   "source": [
    "# Part -II: CG-Generated Clincal Data"
   ]
  },
  {
   "cell_type": "markdown",
   "metadata": {},
   "source": [
    "1. Import the CSV generated data"
   ]
  },
  {
   "cell_type": "code",
   "execution_count": null,
   "metadata": {},
   "outputs": [],
   "source": [
    "cgdf = pd.read_csv(\"CG_Generated-Table 1.csv\", encoding='utf-8')"
   ]
  },
  {
   "cell_type": "code",
   "execution_count": null,
   "metadata": {},
   "outputs": [],
   "source": [
    "#counting values for misssing value detection\n",
    "cgdf.count()"
   ]
  },
  {
   "cell_type": "markdown",
   "metadata": {},
   "source": [
    "Building Histogram"
   ]
  },
  {
   "cell_type": "code",
   "execution_count": null,
   "metadata": {},
   "outputs": [],
   "source": [
    "#building Histogram for categorical values or objects \n",
    "@interact \n",
    "def hist(x=list(cgdf.select_dtypes('object').columns),\n",
    "                 #theme=list(cf.themes.THEMES.keys()), \n",
    "                 theme=list(cf.getThemes()), \n",
    "                 colorscale=list(cf.colors._scales_names.keys())):\n",
    "    cgdf[x].iplot(kind='hist', x=x, mode='markers', xTitle='x',\n",
    "                   yTitle='count', title='Distribution',\n",
    "                   theme=theme, colorscale=colorscale)"
   ]
  },
  {
   "cell_type": "markdown",
   "metadata": {},
   "source": [
    "Interactive visulization: Inspecting objects or catagorical attributes "
   ]
  },
  {
   "cell_type": "code",
   "execution_count": null,
   "metadata": {},
   "outputs": [],
   "source": [
    "#Implmentaitng cross tab between two variables \n",
    "# e.g. x is the disease and y is the path followed \n",
    "@interact \n",
    "def crosstab(x=list(cgdf.select_dtypes('object').columns), \n",
    "             y=list(cgdf.select_dtypes('object').columns)[1:],\n",
    "             theme=list(cf.getThemes()), \n",
    "             colorscale=list(cf.colors._scales_names.keys())):\n",
    "    pd.crosstab(cgdf[x],cgdf[y]).plot.barh().legend(loc='center left', bbox_to_anchor=(1, 0.5))\n",
    "    plt.xlabel('Count by the Path Followed')\n",
    "   "
   ]
  },
  {
   "cell_type": "markdown",
   "metadata": {},
   "source": [
    "### updated"
   ]
  },
  {
   "cell_type": "code",
   "execution_count": null,
   "metadata": {},
   "outputs": [],
   "source": [
    "cgdfupdated = pd.read_csv(\"CG_Generated_P2_Updated.csv\", encoding='utf-8')\n",
    "cgdfupdated = pd.read_csv(\"CG_Generated_P2-Updated1.csv\", encoding='utf-8')"
   ]
  },
  {
   "cell_type": "code",
   "execution_count": null,
   "metadata": {},
   "outputs": [],
   "source": [
    "cgdf.shape"
   ]
  },
  {
   "cell_type": "code",
   "execution_count": null,
   "metadata": {},
   "outputs": [],
   "source": [
    "#cgdfupdated.info()\n",
    "cgdfupdated.CP.value_counts()"
   ]
  },
  {
   "cell_type": "code",
   "execution_count": null,
   "metadata": {},
   "outputs": [],
   "source": [
    "#cgdfupdated['CP'].value_counts().head(30).plot(kind='barh', figsize=(20,10))\n",
    "cgdfupdated.shape"
   ]
  },
  {
   "cell_type": "code",
   "execution_count": null,
   "metadata": {},
   "outputs": [],
   "source": [
    "#Implmentaitng cross tab between two variables \n",
    "# e.g. x is the disease and y is the path followed \n",
    "@interact \n",
    "def crosstab(x=list(cgdfupdated.select_dtypes('object').columns), \n",
    "             y=list(cgdfupdated.select_dtypes('object').columns)[1:],\n",
    "             theme=list(cf.getThemes()), \n",
    "             colorscale=list(cf.colors._scales_names.keys())):\n",
    "    pd.crosstab(cgdfupdated[x],cgdfupdated[y]).plot.barh(figsize=(7,10)).legend(loc='center left', bbox_to_anchor=(1, 0.5))\n",
    "    plt.xlabel('Count by the Path Followed')\n",
    "    #plt.tight_layout()\n",
    "    #plt.figure(figsize=(30,30))"
   ]
  },
  {
   "cell_type": "code",
   "execution_count": null,
   "metadata": {},
   "outputs": [],
   "source": [
    "pd.crosstab(cgdfupdated.ICPC2_Classfication,cgdfupdated.CP).plot.bar()#.legend(loc='uppper left', bbox_to_anchor=(0.8, 0.8)\n",
    "plt.ylabel('No. of Count')\n",
    "plt.xlabel('Figure 8. Summary of CPs based on CGs')\n",
    "plt.xticks(rotation=45, horizontalalignment='right',fontsize='medium')\n",
    "plt.legend(title='Clinical Pathways', bbox_to_anchor=(0.45, 0.64), fontsize='small', frameon=False)\n",
    "plt.savefig('Figure 8. Summary of CPs based on CGs.pdf')"
   ]
  },
  {
   "cell_type": "markdown",
   "metadata": {},
   "source": [
    "## Comparision: A case of Fever and Pregancy "
   ]
  },
  {
   "cell_type": "code",
   "execution_count": null,
   "metadata": {},
   "outputs": [],
   "source": [
    "#fever extracted from the CGS\n",
    "feverCGs=pd.read_csv(\"Fever_CGS-Table 1.csv\", encoding='utf-8')\n",
    "\n",
    "#fever collected from the card-sheet \n",
    "feverCardsheet=pd.read_csv(\"Fever_CardSheet-Table 1.csv\", encoding='utf-8')\n",
    "\n",
    "#pregnancy extracted from the CGS\n",
    "pregancyCGs=pd.read_csv(\"Pregnacy_FullCGs-Table 1.csv\", encoding='utf-8')\n",
    "\n",
    "#pregnancy collected from the card-sheet \n",
    "pregnancyCardheet=pd.read_csv(\"Pregnacy_FullCardsheet-Table 1.csv\", encoding='utf-8')"
   ]
  },
  {
   "cell_type": "code",
   "execution_count": null,
   "metadata": {},
   "outputs": [],
   "source": [
    "feverCGs.head(1)"
   ]
  },
  {
   "cell_type": "code",
   "execution_count": null,
   "metadata": {},
   "outputs": [],
   "source": [
    "pd.crosstab(feverCGs.DiseaseName,feverCGs.CP).plot.bar()#.legend(loc='uppper left', bbox_to_anchor=(0.8, 0.8)\n",
    "plt.ylabel('No. of Count')\n",
    "plt.xlabel('Fever Clinical Pathways Based on CGs')\n",
    "plt.xticks(rotation=5, horizontalalignment='right',fontsize='medium')\n",
    "plt.legend(title='Clinical Pathways', bbox_to_anchor=(0.5, 0.64))"
   ]
  },
  {
   "cell_type": "code",
   "execution_count": null,
   "metadata": {},
   "outputs": [],
   "source": [
    "pd.crosstab(feverCardsheet.Disease_Name,feverCardsheet.CP).plot.bar()#.legend(loc='uppper left', bbox_to_anchor=(0.8, 0.8)\n",
    "plt.ylabel('No. of Count')\n",
    "plt.xlabel('Fever Clinical Pathways Based on Card-sheet')\n",
    "plt.xticks(rotation=5, horizontalalignment='right',fontsize='medium')\n",
    "plt.legend(title='Clinical Pathways', bbox_to_anchor=(0.5, 0.64))"
   ]
  },
  {
   "cell_type": "code",
   "execution_count": null,
   "metadata": {},
   "outputs": [],
   "source": [
    "pd.crosstab(pregancyCGs.ICPC2_Classfication,pregancyCGs.CP).plot.bar()#.legend(loc='uppper left', bbox_to_anchor=(0.8, 0.8)\n",
    "plt.ylabel('No. of Count')\n",
    "plt.xlabel('Figure 9. Extracted CPs from the CGs')\n",
    "plt.xticks(rotation=5, horizontalalignment='right',fontsize='medium')\n",
    "plt.legend(title='Clinical Pathways', bbox_to_anchor=(0.5, 0.64), fontsize='small', frameon=False)\n",
    "plt.savefig('Figure 9. Extracted CPs from the CGs.pdf')"
   ]
  },
  {
   "cell_type": "code",
   "execution_count": null,
   "metadata": {},
   "outputs": [],
   "source": [
    "pd.DataFrame({'Percentage from CGs (%)': pregancyCGs.groupby(('CP')).size() / len(pregancyCGs),'Percentage from Card-sheet (%)': pregnancyCardheet.groupby(('CP')).size() / len(pregnancyCardheet)})"
   ]
  },
  {
   "cell_type": "code",
   "execution_count": null,
   "metadata": {},
   "outputs": [],
   "source": [
    "pd.DataFrame({'Percentage from Card-sheet': pregancyCGs.groupby(('CP')).size() / len(pregancyCGs)})"
   ]
  },
  {
   "cell_type": "code",
   "execution_count": null,
   "metadata": {},
   "outputs": [],
   "source": [
    "pregancyCGs['CP'].value_counts()"
   ]
  },
  {
   "cell_type": "code",
   "execution_count": null,
   "metadata": {},
   "outputs": [],
   "source": [
    "pregancyCGs.shape"
   ]
  },
  {
   "cell_type": "code",
   "execution_count": null,
   "metadata": {},
   "outputs": [],
   "source": [
    "pd.DataFrame({'Percentage from Card-sheet': pregnancyCardheet.groupby(('CP')).size() / len(pregnancyCardheet)})"
   ]
  },
  {
   "cell_type": "code",
   "execution_count": null,
   "metadata": {},
   "outputs": [],
   "source": [
    "pd.crosstab(pregnancyCardheet.ICPC2_Classfication,pregnancyCardheet.CP).plot.bar()#.legend(loc='uppper left', bbox_to_anchor=(0.8, 0.8)\n",
    "plt.ylabel('No. of Count')\n",
    "plt.xlabel('Figure 7. Summary of CPs based on card-sheet')\n",
    "plt.xticks(rotation=5, horizontalalignment='right',fontsize='medium')\n",
    "plt.legend(title='Clinical Pathways', bbox_to_anchor=(0.55, 0.64),fontsize='small', frameon=False)\n",
    "#plt.savefig('Figure 7. Summary of CP based on card-sheet.pdf')"
   ]
  },
  {
   "cell_type": "code",
   "execution_count": null,
   "metadata": {},
   "outputs": [],
   "source": [
    "pregnancyCardheet.shape"
   ]
  },
  {
   "cell_type": "code",
   "execution_count": null,
   "metadata": {},
   "outputs": [],
   "source": [
    "pregnancyCardheet"
   ]
  },
  {
   "cell_type": "code",
   "execution_count": null,
   "metadata": {},
   "outputs": [],
   "source": [
    "# Import the necessary libraries first\n",
    "from sklearn.feature_selection import SelectKBest\n",
    "from sklearn.feature_selection import chi2\n",
    "\n",
    "# Feature extraction\n",
    "test = SelectKBest(score_func=chi2, k=4)\n",
    "fit = test.fit(X, Y)\n",
    "\n",
    "# Summarize scores\n",
    "np.set_printoptions(precision=3)\n",
    "print(fit.scores_)\n",
    "\n",
    "features = fit.transform(X)\n",
    "# Summarize selected features\n",
    "print(features[0:5,:])"
   ]
  },
  {
   "cell_type": "code",
   "execution_count": null,
   "metadata": {},
   "outputs": [],
   "source": []
  },
  {
   "cell_type": "code",
   "execution_count": null,
   "metadata": {},
   "outputs": [],
   "source": []
  },
  {
   "cell_type": "code",
   "execution_count": null,
   "metadata": {},
   "outputs": [],
   "source": [
    "pregnancyCardheet[\"CP\"] = pregnancyCardheet[\"CP\"].astype('category')\n",
    "pregnancyCardheet.dtypes"
   ]
  },
  {
   "cell_type": "code",
   "execution_count": null,
   "metadata": {},
   "outputs": [],
   "source": [
    "pregnancyCardheet[\"CP_style_cat\"] = pregnancyCardheet[\"CP\"].cat.codes\n",
    "pregnancyCardheet.head(2)"
   ]
  },
  {
   "cell_type": "code",
   "execution_count": null,
   "metadata": {},
   "outputs": [],
   "source": [
    "sns.catplot(x=\"CP_style_cat\", y=\"ICPC2_Classfication\", hue=\"CP\", kind=\"swarm\", data=pregnancyCardheet);"
   ]
  },
  {
   "cell_type": "code",
   "execution_count": null,
   "metadata": {},
   "outputs": [],
   "source": [
    "sns.catplot(x=\"ICPC2_Classfication\", y=\"CP\", hue=\"CP_style_cat\", kind=\"swarm\", data=pregnancyCardheet);"
   ]
  },
  {
   "cell_type": "code",
   "execution_count": null,
   "metadata": {},
   "outputs": [],
   "source": [
    "sns.catplot(y=\"CP\", hue=\"ICPC2_Classfication\", kind=\"count\",\n",
    "            palette=\"pastel\", edgecolor=\".6\",\n",
    "            data=pregnancyCardheet);\n"
   ]
  },
  {
   "cell_type": "code",
   "execution_count": null,
   "metadata": {},
   "outputs": [],
   "source": [
    "pregancyCGs[\"CP\"] = pregancyCGs[\"CP\"].astype('category')"
   ]
  },
  {
   "cell_type": "code",
   "execution_count": null,
   "metadata": {},
   "outputs": [],
   "source": [
    "pregancyCGs[\"CPCGS_style_cat\"] = pregancyCGs[\"CP\"].cat.codes\n",
    "pregancyCGs.head(2)"
   ]
  },
  {
   "cell_type": "code",
   "execution_count": null,
   "metadata": {},
   "outputs": [],
   "source": [
    "sns.catplot(x=\"CPCGS_style_cat\", y=\"ICPC2_Classfication\", hue=\"CP\", kind=\"swarm\",aspect=.5, data=pregancyCGs);"
   ]
  },
  {
   "cell_type": "code",
   "execution_count": null,
   "metadata": {},
   "outputs": [],
   "source": [
    "sns.catplot(x=\"CP_style_cat\", y=\"ICPC2_Classfication\", hue=\"CP\", kind=\"swarm\",aspect=.5, data=pregnancyCardheet);"
   ]
  },
  {
   "cell_type": "code",
   "execution_count": null,
   "metadata": {},
   "outputs": [],
   "source": [
    "sns.barplot(x=\"ICPC2_Classfication\", y=\"CPCGS_style_cat\", data=pregancyCGs)"
   ]
  },
  {
   "cell_type": "code",
   "execution_count": null,
   "metadata": {},
   "outputs": [],
   "source": [
    "sns.catplot(y=\"CP\", hue=\"ICPC2_Classfication\", kind=\"count\",\n",
    "            palette=\"pastel\", edgecolor=\".6\",\n",
    "            data=pregancyCGs);"
   ]
  },
  {
   "cell_type": "code",
   "execution_count": null,
   "metadata": {},
   "outputs": [],
   "source": [
    "sns.catplot(y=\"CP\", hue=\"ICPC2_Classfication\", kind=\"count\",\n",
    "            palette=\"pastel\", edgecolor=\".6\",\n",
    "            data=pregnancyCardheet);"
   ]
  },
  {
   "cell_type": "code",
   "execution_count": null,
   "metadata": {},
   "outputs": [],
   "source": [
    "diseaseList = pregnancyCardheet.CP\n",
    "countDiseaseList = diseaseList.value_counts()\n",
    "plt.title('Summary', fontsize=14)\n",
    "plt.xlabel('Pregnancy Clinical Pathways ', fontsize=14)\n",
    "plt.ylabel('Number of Cases', fontsize=14)\n",
    "plt.grid(True)\n",
    "countDiseaseList.plot(kind='bar')\n",
    "plt.xticks(rotation=45, horizontalalignment='right',fontweight='light')"
   ]
  },
  {
   "cell_type": "markdown",
   "metadata": {},
   "source": [
    "### count and summarized CP [both the cardsheet and CGs]"
   ]
  },
  {
   "cell_type": "code",
   "execution_count": null,
   "metadata": {},
   "outputs": [],
   "source": [
    "countSummaryFROMCG=cgdfupdated.groupby([\"ICPC2_Classfication\", \"CP\"]).size()\n",
    "countSummaryFROMCardSheet=hcdf.groupby([\"ICPC2_Classfication\", \"CP\"]).size()"
   ]
  },
  {
   "cell_type": "code",
   "execution_count": null,
   "metadata": {},
   "outputs": [],
   "source": [
    "countSummaryFROMCG"
   ]
  },
  {
   "cell_type": "code",
   "execution_count": null,
   "metadata": {},
   "outputs": [],
   "source": [
    "countSummaryFROMCardSheet"
   ]
  },
  {
   "cell_type": "markdown",
   "metadata": {},
   "source": [
    "###  Save to Excel and Import for Visulization"
   ]
  },
  {
   "cell_type": "code",
   "execution_count": null,
   "metadata": {},
   "outputs": [],
   "source": [
    "importCPCountSummary = pd.read_csv(\"CountComparision-Table 1.csv\", encoding='utf-8')"
   ]
  },
  {
   "cell_type": "code",
   "execution_count": null,
   "metadata": {},
   "outputs": [],
   "source": [
    "importCPCountSummary.CP.nunique()"
   ]
  },
  {
   "cell_type": "code",
   "execution_count": null,
   "metadata": {},
   "outputs": [],
   "source": [
    "# Display and Check the reuslt \n",
    "#new = old[['A', 'C', 'D']].copy()\n",
    "copyCGfrom = importCPCountSummary[['ICPC2Classification', 'CP', 'CP_in_Cardsheet']].copy()\n",
    "copyCSfrom = importCPCountSummary[['ICPC2Classification', 'CP', 'CP_in_CGs']].copy()"
   ]
  },
  {
   "cell_type": "code",
   "execution_count": null,
   "metadata": {},
   "outputs": [],
   "source": [
    "importCPCountSummary.info()"
   ]
  },
  {
   "cell_type": "code",
   "execution_count": null,
   "metadata": {},
   "outputs": [],
   "source": [
    "importCPCountSummary"
   ]
  },
  {
   "cell_type": "code",
   "execution_count": null,
   "metadata": {
    "scrolled": false
   },
   "outputs": [],
   "source": [
    "importCPCountSummary.plot(x ='ICPC2Classification', y=['CP_in_Cardsheet','CP_in_CGs'], kind = 'bar', figsize=(15,7))"
   ]
  },
  {
   "cell_type": "code",
   "execution_count": null,
   "metadata": {},
   "outputs": [],
   "source": [
    "selectedP= importCPCountSummary.loc[importCPCountSummary['ICPC2Classification'] == 'Pregnancy, Childbearing,Family Planning']\n",
    "selectedPT = cgdfupdated.loc[cgdfupdated['DiseaseName'] == 'AFI']"
   ]
  },
  {
   "cell_type": "code",
   "execution_count": null,
   "metadata": {},
   "outputs": [],
   "source": [
    "selectedP.plot(x ='CP', y=['CP_in_Cardsheet','CP_in_CGs'], kind = 'barh', figsize=(7,5))"
   ]
  },
  {
   "cell_type": "code",
   "execution_count": null,
   "metadata": {},
   "outputs": [],
   "source": [
    "selectedPT.head(1)"
   ]
  },
  {
   "cell_type": "code",
   "execution_count": null,
   "metadata": {},
   "outputs": [],
   "source": [
    "selectedPT['CP'].nunique()"
   ]
  },
  {
   "cell_type": "code",
   "execution_count": null,
   "metadata": {},
   "outputs": [],
   "source": [
    "diseaseList = selectedPT.CP\n",
    "countDiseaseList = diseaseList.value_counts()\n",
    "plt.title('Summary', fontsize=14)\n",
    "plt.xlabel('Followed Clinical Pathways ', fontsize=14)\n",
    "plt.ylabel('Number of Cases', fontsize=14)\n",
    "plt.grid(True)\n",
    "countDiseaseList.plot(kind='bar')\n",
    "plt.xticks(rotation=45, horizontalalignment='right',fontweight='light')"
   ]
  },
  {
   "cell_type": "code",
   "execution_count": null,
   "metadata": {},
   "outputs": [],
   "source": [
    "\n",
    "AggregatedCPSummary = pd.read_csv(\"AggregatedSummary-Table 1.csv\", encoding='utf-8')"
   ]
  },
  {
   "cell_type": "code",
   "execution_count": null,
   "metadata": {},
   "outputs": [],
   "source": [
    "AggregatedCPSummary"
   ]
  },
  {
   "cell_type": "code",
   "execution_count": null,
   "metadata": {},
   "outputs": [],
   "source": [
    "AggregatedCPSummary.plot(x ='CP_Summary', y=['CP_Collected_From_Cardsheet','CP_Extracted_From_CGs'], kind = 'bar')\n",
    "plt.xticks(rotation=45, horizontalalignment='right',fontweight='light')\n",
    "plt.ylabel('No. of Count')\n",
    "plt.xlabel('Clincal Pathway Followed')"
   ]
  },
  {
   "cell_type": "markdown",
   "metadata": {},
   "source": [
    "# Part III - Comparision "
   ]
  },
  {
   "cell_type": "markdown",
   "metadata": {},
   "source": [
    "# Next steps"
   ]
  },
  {
   "cell_type": "markdown",
   "metadata": {},
   "source": [
    "Building an algorithm for generating the number of possible paths or patterns for detecting the patient flow treatment and referral paths or matching. Also, able to detect and explore findings that point to more than one disease called \"consideration path or crossroad PLUS(+) treatable or referral\""
   ]
  }
 ],
 "metadata": {
  "kernelspec": {
   "display_name": "Python 3",
   "language": "python",
   "name": "python3"
  },
  "language_info": {
   "codemirror_mode": {
    "name": "ipython",
    "version": 3
   },
   "file_extension": ".py",
   "mimetype": "text/x-python",
   "name": "python",
   "nbconvert_exporter": "python",
   "pygments_lexer": "ipython3",
   "version": "3.7.3"
  }
 },
 "nbformat": 4,
 "nbformat_minor": 2
}
